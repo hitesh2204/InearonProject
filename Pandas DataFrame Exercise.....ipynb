{
 "cells": [
  {
   "cell_type": "markdown",
   "id": "ebe87336",
   "metadata": {},
   "source": [
    "### 1) Write a Pandas program to create and display a DataFrame from a specified dictionary data which has the index labels."
   ]
  },
  {
   "cell_type": "code",
   "execution_count": 1,
   "id": "888ba15d",
   "metadata": {},
   "outputs": [
    {
     "name": "stdout",
     "output_type": "stream",
     "text": [
      "\n",
      "Creating the DtaFrame from Dictionary\n",
      "\n",
      "        name  score  attempts qualify\n",
      "a  Anastasia   12.5         1     yes\n",
      "b       Dima    9.0         3      no\n",
      "c  Katherine   16.5         2     yes\n",
      "d      James    NaN         3      no\n",
      "e      Emily    9.0         2      no\n",
      "f    Michael   20.0         3     yes\n",
      "g    Matthew   14.5         1     yes\n",
      "h      Laura    NaN         1      no\n",
      "i      Kevin    8.0         2      no\n",
      "j      Jonas   19.0         1     yes\n"
     ]
    }
   ],
   "source": [
    "import pandas as pd\n",
    "import numpy as np\n",
    "\n",
    "exam_data = {'name': ['Anastasia', 'Dima', 'Katherine', 'James', 'Emily', 'Michael', 'Matthew', 'Laura', 'Kevin', 'Jonas'],\n",
    "'score': [12.5, 9, 16.5, np.nan, 9, 20, 14.5, np.nan, 8, 19],\n",
    "'attempts': [1, 3, 2, 3, 2, 3, 1, 1, 2, 1],\n",
    "'qualify': ['yes', 'no', 'yes', 'no', 'no', 'yes', 'yes', 'no', 'no', 'yes']}\n",
    "\n",
    "labels = ['a', 'b', 'c', 'd', 'e', 'f', 'g', 'h', 'i', 'j']\n",
    "    \n",
    "print()\n",
    "print(\"Creating the DtaFrame from Dictionary\")\n",
    "print()\n",
    "\n",
    "\n",
    "exam_df=pd.DataFrame(exam_data,index=labels)\n",
    "print(exam_df)"
   ]
  },
  {
   "cell_type": "markdown",
   "id": "9d8f7cf5",
   "metadata": {},
   "source": [
    "### Write a Pandas program to display a summary of the basic information about a specified DataFrame and its data."
   ]
  },
  {
   "cell_type": "code",
   "execution_count": 2,
   "id": "02b69a60",
   "metadata": {},
   "outputs": [
    {
     "name": "stdout",
     "output_type": "stream",
     "text": [
      "<class 'pandas.core.frame.DataFrame'>\n",
      "Index: 10 entries, a to j\n",
      "Data columns (total 4 columns):\n",
      " #   Column    Non-Null Count  Dtype  \n",
      "---  ------    --------------  -----  \n",
      " 0   name      10 non-null     object \n",
      " 1   score     8 non-null      float64\n",
      " 2   attempts  10 non-null     int64  \n",
      " 3   qualify   10 non-null     object \n",
      "dtypes: float64(1), int64(1), object(2)\n",
      "memory usage: 400.0+ bytes\n",
      "None\n"
     ]
    }
   ],
   "source": [
    "basic_info=exam_df.info()\n",
    "print(basic_info)"
   ]
  },
  {
   "cell_type": "code",
   "execution_count": 3,
   "id": "4712930c",
   "metadata": {},
   "outputs": [
    {
     "name": "stdout",
     "output_type": "stream",
     "text": [
      "           score   attempts\n",
      "count   8.000000  10.000000\n",
      "mean   13.562500   1.900000\n",
      "std     4.693746   0.875595\n",
      "min     8.000000   1.000000\n",
      "25%     9.000000   1.000000\n",
      "50%    13.500000   2.000000\n",
      "75%    17.125000   2.750000\n",
      "max    20.000000   3.000000\n"
     ]
    }
   ],
   "source": [
    "exam_desc=exam_df.describe()\n",
    "print(exam_desc)"
   ]
  },
  {
   "cell_type": "code",
   "execution_count": 4,
   "id": "a92949d5",
   "metadata": {},
   "outputs": [
    {
     "data": {
      "text/plain": [
       "object     2\n",
       "int64      1\n",
       "float64    1\n",
       "dtype: int64"
      ]
     },
     "execution_count": 4,
     "metadata": {},
     "output_type": "execute_result"
    }
   ],
   "source": [
    "### Counting the datatype in DataFrame.\n",
    "exam_df.dtypes.value_counts()"
   ]
  },
  {
   "cell_type": "code",
   "execution_count": 5,
   "id": "ade1218e",
   "metadata": {},
   "outputs": [
    {
     "data": {
      "text/html": [
       "<div>\n",
       "<style scoped>\n",
       "    .dataframe tbody tr th:only-of-type {\n",
       "        vertical-align: middle;\n",
       "    }\n",
       "\n",
       "    .dataframe tbody tr th {\n",
       "        vertical-align: top;\n",
       "    }\n",
       "\n",
       "    .dataframe thead th {\n",
       "        text-align: right;\n",
       "    }\n",
       "</style>\n",
       "<table border=\"1\" class=\"dataframe\">\n",
       "  <thead>\n",
       "    <tr style=\"text-align: right;\">\n",
       "      <th></th>\n",
       "      <th>attempts</th>\n",
       "    </tr>\n",
       "  </thead>\n",
       "  <tbody>\n",
       "    <tr>\n",
       "      <th>a</th>\n",
       "      <td>1</td>\n",
       "    </tr>\n",
       "    <tr>\n",
       "      <th>b</th>\n",
       "      <td>3</td>\n",
       "    </tr>\n",
       "    <tr>\n",
       "      <th>c</th>\n",
       "      <td>2</td>\n",
       "    </tr>\n",
       "    <tr>\n",
       "      <th>d</th>\n",
       "      <td>3</td>\n",
       "    </tr>\n",
       "    <tr>\n",
       "      <th>e</th>\n",
       "      <td>2</td>\n",
       "    </tr>\n",
       "    <tr>\n",
       "      <th>f</th>\n",
       "      <td>3</td>\n",
       "    </tr>\n",
       "    <tr>\n",
       "      <th>g</th>\n",
       "      <td>1</td>\n",
       "    </tr>\n",
       "    <tr>\n",
       "      <th>h</th>\n",
       "      <td>1</td>\n",
       "    </tr>\n",
       "    <tr>\n",
       "      <th>i</th>\n",
       "      <td>2</td>\n",
       "    </tr>\n",
       "    <tr>\n",
       "      <th>j</th>\n",
       "      <td>1</td>\n",
       "    </tr>\n",
       "  </tbody>\n",
       "</table>\n",
       "</div>"
      ],
      "text/plain": [
       "   attempts\n",
       "a         1\n",
       "b         3\n",
       "c         2\n",
       "d         3\n",
       "e         2\n",
       "f         3\n",
       "g         1\n",
       "h         1\n",
       "i         2\n",
       "j         1"
      ]
     },
     "execution_count": 5,
     "metadata": {},
     "output_type": "execute_result"
    }
   ],
   "source": [
    "exam_df.select_dtypes(include='integer')"
   ]
  },
  {
   "cell_type": "markdown",
   "id": "465356e4",
   "metadata": {},
   "source": [
    "### Write a Pandas program to select the 'name' and 'score' columns from the following DataFrame."
   ]
  },
  {
   "cell_type": "code",
   "execution_count": 6,
   "id": "5a8cb9a1",
   "metadata": {},
   "outputs": [
    {
     "name": "stdout",
     "output_type": "stream",
     "text": [
      "        name  score\n",
      "a  Anastasia   12.5\n",
      "b       Dima    9.0\n",
      "c  Katherine   16.5\n",
      "d      James    NaN\n",
      "e      Emily    9.0\n",
      "f    Michael   20.0\n",
      "g    Matthew   14.5\n",
      "h      Laura    NaN\n",
      "i      Kevin    8.0\n",
      "j      Jonas   19.0\n"
     ]
    }
   ],
   "source": [
    "result=exam_df[['name','score']]\n",
    "print(result)"
   ]
  },
  {
   "cell_type": "markdown",
   "id": "083a685c",
   "metadata": {},
   "source": [
    "### Write a Pandas program to select the rows where the number of attempts in the examination is greater than 2."
   ]
  },
  {
   "cell_type": "code",
   "execution_count": 7,
   "id": "111b2212",
   "metadata": {},
   "outputs": [
    {
     "name": "stdout",
     "output_type": "stream",
     "text": [
      "        name  score  attempts qualify\n",
      "b       Dima    9.0         3      no\n",
      "c  Katherine   16.5         2     yes\n",
      "d      James    NaN         3      no\n",
      "e      Emily    9.0         2      no\n",
      "f    Michael   20.0         3     yes\n",
      "i      Kevin    8.0         2      no\n"
     ]
    }
   ],
   "source": [
    "result=exam_df[exam_df['attempts']>1]\n",
    "print(result)"
   ]
  },
  {
   "cell_type": "markdown",
   "id": "a8b2182f",
   "metadata": {},
   "source": [
    "### Write a Pandas program to count the number of rows and columns of a DataFrame."
   ]
  },
  {
   "cell_type": "code",
   "execution_count": 8,
   "id": "3b92e77e",
   "metadata": {},
   "outputs": [
    {
     "name": "stdout",
     "output_type": "stream",
     "text": [
      "10\n",
      "4\n"
     ]
    }
   ],
   "source": [
    "number_rows=len(exam_df.axes[0])\n",
    "number_columns=len(exam_df.axes[1])\n",
    "print(number_rows)\n",
    "print(number_columns)"
   ]
  },
  {
   "cell_type": "markdown",
   "id": "aa8d9842",
   "metadata": {},
   "source": [
    "### Write a Pandas program to select the rows where the score is missing, i.e. is NaN."
   ]
  },
  {
   "cell_type": "code",
   "execution_count": 9,
   "id": "012aa0d0",
   "metadata": {},
   "outputs": [
    {
     "name": "stdout",
     "output_type": "stream",
     "text": [
      "    name  score  attempts qualify\n",
      "d  James    NaN         3      no\n",
      "h  Laura    NaN         1      no\n"
     ]
    }
   ],
   "source": [
    "nan_values=exam_df[exam_df['score'].isnull()]\n",
    "print(nan_values)"
   ]
  },
  {
   "cell_type": "markdown",
   "id": "869b93f5",
   "metadata": {},
   "source": [
    "### Write a Pandas program to select the rows the score is between 15 and 20 (inclusive)."
   ]
  },
  {
   "cell_type": "code",
   "execution_count": 10,
   "id": "e014c8e2",
   "metadata": {},
   "outputs": [
    {
     "name": "stdout",
     "output_type": "stream",
     "text": [
      "        name  score  attempts qualify\n",
      "c  Katherine   16.5         2     yes\n",
      "f    Michael   20.0         3     yes\n",
      "j      Jonas   19.0         1     yes\n"
     ]
    }
   ],
   "source": [
    "values=exam_df[exam_df['score'].between(15,20)]\n",
    "print(values)"
   ]
  },
  {
   "cell_type": "markdown",
   "id": "b8bb0ff6",
   "metadata": {},
   "source": [
    "### Write a Pandas program to select the rows where number of attempts in the examination is less than 2 and score greater than 15."
   ]
  },
  {
   "cell_type": "code",
   "execution_count": 11,
   "id": "caf5c396",
   "metadata": {},
   "outputs": [
    {
     "name": "stdout",
     "output_type": "stream",
     "text": [
      "        name  score  attempts qualify\n",
      "c  Katherine   16.5         2     yes\n",
      "j      Jonas   19.0         1     yes\n"
     ]
    }
   ],
   "source": [
    "result=exam_df[(exam_df['attempts']<3 )&(exam_df['score']>15)]\n",
    "print(result)"
   ]
  },
  {
   "cell_type": "markdown",
   "id": "4c570056",
   "metadata": {},
   "source": [
    "### Write a Pandas program to calculate the sum of the examination attempts by the students."
   ]
  },
  {
   "cell_type": "code",
   "execution_count": 12,
   "id": "f52d0a0a",
   "metadata": {},
   "outputs": [
    {
     "name": "stdout",
     "output_type": "stream",
     "text": [
      "19\n"
     ]
    }
   ],
   "source": [
    "sum_attempts=exam_df['attempts'].sum()\n",
    "print(sum_attempts)"
   ]
  },
  {
   "cell_type": "code",
   "execution_count": 13,
   "id": "bc5466f9",
   "metadata": {},
   "outputs": [
    {
     "name": "stdout",
     "output_type": "stream",
     "text": [
      "108.5\n"
     ]
    }
   ],
   "source": [
    "sum_score=exam_df['score'].sum()\n",
    "print(sum_score)"
   ]
  },
  {
   "cell_type": "code",
   "execution_count": 14,
   "id": "d48c7473",
   "metadata": {},
   "outputs": [
    {
     "name": "stdout",
     "output_type": "stream",
     "text": [
      "13.5625\n"
     ]
    }
   ],
   "source": [
    "### Calculating mean of score.\n",
    "mean_score=exam_df['score'].mean()\n",
    "print(mean_score)"
   ]
  },
  {
   "cell_type": "markdown",
   "id": "de801c39",
   "metadata": {},
   "source": [
    "### Write a Pandas program to append a new row 'k' to DataFrame with given values for each column. Now delete the new row and return the original data frame."
   ]
  },
  {
   "cell_type": "code",
   "execution_count": 15,
   "id": "e7dd79b8",
   "metadata": {},
   "outputs": [
    {
     "data": {
      "text/html": [
       "<div>\n",
       "<style scoped>\n",
       "    .dataframe tbody tr th:only-of-type {\n",
       "        vertical-align: middle;\n",
       "    }\n",
       "\n",
       "    .dataframe tbody tr th {\n",
       "        vertical-align: top;\n",
       "    }\n",
       "\n",
       "    .dataframe thead th {\n",
       "        text-align: right;\n",
       "    }\n",
       "</style>\n",
       "<table border=\"1\" class=\"dataframe\">\n",
       "  <thead>\n",
       "    <tr style=\"text-align: right;\">\n",
       "      <th></th>\n",
       "      <th>name</th>\n",
       "      <th>score</th>\n",
       "      <th>attempts</th>\n",
       "      <th>qualify</th>\n",
       "    </tr>\n",
       "  </thead>\n",
       "  <tbody>\n",
       "    <tr>\n",
       "      <th>a</th>\n",
       "      <td>Anastasia</td>\n",
       "      <td>12.5</td>\n",
       "      <td>1</td>\n",
       "      <td>yes</td>\n",
       "    </tr>\n",
       "    <tr>\n",
       "      <th>b</th>\n",
       "      <td>Dima</td>\n",
       "      <td>9.0</td>\n",
       "      <td>3</td>\n",
       "      <td>no</td>\n",
       "    </tr>\n",
       "    <tr>\n",
       "      <th>c</th>\n",
       "      <td>Katherine</td>\n",
       "      <td>16.5</td>\n",
       "      <td>2</td>\n",
       "      <td>yes</td>\n",
       "    </tr>\n",
       "    <tr>\n",
       "      <th>d</th>\n",
       "      <td>James</td>\n",
       "      <td>NaN</td>\n",
       "      <td>3</td>\n",
       "      <td>no</td>\n",
       "    </tr>\n",
       "    <tr>\n",
       "      <th>e</th>\n",
       "      <td>Emily</td>\n",
       "      <td>9.0</td>\n",
       "      <td>2</td>\n",
       "      <td>no</td>\n",
       "    </tr>\n",
       "    <tr>\n",
       "      <th>f</th>\n",
       "      <td>Michael</td>\n",
       "      <td>20.0</td>\n",
       "      <td>3</td>\n",
       "      <td>yes</td>\n",
       "    </tr>\n",
       "    <tr>\n",
       "      <th>g</th>\n",
       "      <td>Matthew</td>\n",
       "      <td>14.5</td>\n",
       "      <td>1</td>\n",
       "      <td>yes</td>\n",
       "    </tr>\n",
       "    <tr>\n",
       "      <th>h</th>\n",
       "      <td>Laura</td>\n",
       "      <td>NaN</td>\n",
       "      <td>1</td>\n",
       "      <td>no</td>\n",
       "    </tr>\n",
       "    <tr>\n",
       "      <th>i</th>\n",
       "      <td>Kevin</td>\n",
       "      <td>8.0</td>\n",
       "      <td>2</td>\n",
       "      <td>no</td>\n",
       "    </tr>\n",
       "    <tr>\n",
       "      <th>j</th>\n",
       "      <td>Jonas</td>\n",
       "      <td>19.0</td>\n",
       "      <td>1</td>\n",
       "      <td>yes</td>\n",
       "    </tr>\n",
       "    <tr>\n",
       "      <th>k</th>\n",
       "      <td>Hitesh</td>\n",
       "      <td>15.5</td>\n",
       "      <td>3</td>\n",
       "      <td>yes</td>\n",
       "    </tr>\n",
       "  </tbody>\n",
       "</table>\n",
       "</div>"
      ],
      "text/plain": [
       "        name  score  attempts qualify\n",
       "a  Anastasia   12.5         1     yes\n",
       "b       Dima    9.0         3      no\n",
       "c  Katherine   16.5         2     yes\n",
       "d      James    NaN         3      no\n",
       "e      Emily    9.0         2      no\n",
       "f    Michael   20.0         3     yes\n",
       "g    Matthew   14.5         1     yes\n",
       "h      Laura    NaN         1      no\n",
       "i      Kevin    8.0         2      no\n",
       "j      Jonas   19.0         1     yes\n",
       "k     Hitesh   15.5         3     yes"
      ]
     },
     "execution_count": 15,
     "metadata": {},
     "output_type": "execute_result"
    }
   ],
   "source": [
    "exam_df.loc['k']=['Hitesh',15.5,3,'yes']\n",
    "exam_df"
   ]
  },
  {
   "cell_type": "code",
   "execution_count": 16,
   "id": "dcc7ed5e",
   "metadata": {},
   "outputs": [
    {
     "name": "stdout",
     "output_type": "stream",
     "text": [
      "        name  score  attempts qualify\n",
      "a  Anastasia   12.5         1     yes\n",
      "b       Dima    9.0         3      no\n",
      "c  Katherine   16.5         2     yes\n",
      "d      James    NaN         3      no\n",
      "e      Emily    9.0         2      no\n",
      "f    Michael   20.0         3     yes\n",
      "g    Matthew   14.5         1     yes\n",
      "h      Laura    NaN         1      no\n",
      "i      Kevin    8.0         2      no\n",
      "j      Jonas   19.0         1     yes\n"
     ]
    }
   ],
   "source": [
    "### Deleting the new added rows from DataFrame.\n",
    "result=exam_df.drop('k')\n",
    "print(result)"
   ]
  },
  {
   "cell_type": "markdown",
   "id": "91456816",
   "metadata": {},
   "source": [
    "### Write a Pandas program to sort the data frame first by 'name' in descending order, then by 'score' in ascending order."
   ]
  },
  {
   "cell_type": "code",
   "execution_count": 17,
   "id": "2e516e1a",
   "metadata": {},
   "outputs": [
    {
     "name": "stdout",
     "output_type": "stream",
     "text": [
      "        name  score  attempts qualify\n",
      "f    Michael   20.0         3     yes\n",
      "g    Matthew   14.5         1     yes\n",
      "h      Laura    NaN         1      no\n",
      "i      Kevin    8.0         2      no\n",
      "c  Katherine   16.5         2     yes\n",
      "j      Jonas   19.0         1     yes\n",
      "d      James    NaN         3      no\n",
      "k     Hitesh   15.5         3     yes\n",
      "e      Emily    9.0         2      no\n",
      "b       Dima    9.0         3      no\n",
      "a  Anastasia   12.5         1     yes\n"
     ]
    }
   ],
   "source": [
    "sort_data=exam_df.sort_values(by=['name','score'],ascending=[False,True])\n",
    "print(sort_data)"
   ]
  },
  {
   "cell_type": "markdown",
   "id": "089b7f06",
   "metadata": {},
   "source": [
    "### Write a Pandas program to change the name 'James' to 'Suresh' in name column of the data frame."
   ]
  },
  {
   "cell_type": "code",
   "execution_count": 18,
   "id": "0db79e31",
   "metadata": {},
   "outputs": [
    {
     "name": "stdout",
     "output_type": "stream",
     "text": [
      "        name  score  attempts qualify\n",
      "a  Anastasia   12.5         1     yes\n",
      "b       Dima    9.0         3      no\n",
      "c  Katherine   16.5         2     yes\n",
      "d      James    NaN         3      no\n",
      "e      Emily    9.0         2      no\n",
      "f    Michael   20.0         3     yes\n",
      "g    Matthew   14.5         1     yes\n",
      "h      Laura    NaN         1      no\n",
      "i      Kevin    8.0         2      no\n",
      "j      Jonas   19.0         1     yes\n",
      "k     Hitesh   15.5         3     yes\n"
     ]
    }
   ],
   "source": [
    "exam_df['name']=exam_df['name'].replace('james','Hitesh')\n",
    "print(exam_df)"
   ]
  },
  {
   "cell_type": "code",
   "execution_count": 19,
   "id": "9f46d413",
   "metadata": {},
   "outputs": [
    {
     "name": "stdout",
     "output_type": "stream",
     "text": [
      "        name  score  attempts qualify\n",
      "a  Anastasia   12.5         4     yes\n",
      "b       Dima    9.0         3      no\n",
      "c  Katherine   16.5         2     yes\n",
      "d      James    NaN         3      no\n",
      "e      Emily    9.0         2      no\n",
      "f    Michael   20.0         3     yes\n",
      "g    Matthew   14.5         4     yes\n",
      "h      Laura    NaN         4      no\n",
      "i      Kevin    8.0         2      no\n",
      "j      Jonas   19.0         4     yes\n",
      "k     Hitesh   15.5         3     yes\n"
     ]
    }
   ],
   "source": [
    "exam_df['attempts']=exam_df['attempts'].replace(1,4)\n",
    "print(exam_df)"
   ]
  },
  {
   "cell_type": "markdown",
   "id": "bdaffdd8",
   "metadata": {},
   "source": [
    "### Write a Pandas program to delete the 'attempts' column from the DataFrame."
   ]
  },
  {
   "cell_type": "code",
   "execution_count": 20,
   "id": "c6e2c910",
   "metadata": {},
   "outputs": [
    {
     "name": "stdout",
     "output_type": "stream",
     "text": [
      "        name  attempts qualify\n",
      "a  Anastasia         4     yes\n",
      "b       Dima         3      no\n",
      "c  Katherine         2     yes\n",
      "d      James         3      no\n",
      "e      Emily         2      no\n",
      "f    Michael         3     yes\n",
      "g    Matthew         4     yes\n",
      "h      Laura         4      no\n",
      "i      Kevin         2      no\n",
      "j      Jonas         4     yes\n",
      "k     Hitesh         3     yes\n"
     ]
    }
   ],
   "source": [
    "exam_df.pop('score')\n",
    "print(exam_df)"
   ]
  },
  {
   "cell_type": "markdown",
   "id": "184a1c18",
   "metadata": {},
   "source": [
    "### Adding new column to existing DataFrame in Pandas."
   ]
  },
  {
   "cell_type": "code",
   "execution_count": 21,
   "id": "d29a1943",
   "metadata": {},
   "outputs": [
    {
     "name": "stdout",
     "output_type": "stream",
     "text": [
      "\n"
     ]
    },
    {
     "data": {
      "text/html": [
       "<div>\n",
       "<style scoped>\n",
       "    .dataframe tbody tr th:only-of-type {\n",
       "        vertical-align: middle;\n",
       "    }\n",
       "\n",
       "    .dataframe tbody tr th {\n",
       "        vertical-align: top;\n",
       "    }\n",
       "\n",
       "    .dataframe thead th {\n",
       "        text-align: right;\n",
       "    }\n",
       "</style>\n",
       "<table border=\"1\" class=\"dataframe\">\n",
       "  <thead>\n",
       "    <tr style=\"text-align: right;\">\n",
       "      <th></th>\n",
       "      <th>name</th>\n",
       "      <th>attempts</th>\n",
       "      <th>qualify</th>\n",
       "      <th>Color</th>\n",
       "    </tr>\n",
       "  </thead>\n",
       "  <tbody>\n",
       "    <tr>\n",
       "      <th>a</th>\n",
       "      <td>Anastasia</td>\n",
       "      <td>4</td>\n",
       "      <td>yes</td>\n",
       "      <td>Red</td>\n",
       "    </tr>\n",
       "    <tr>\n",
       "      <th>b</th>\n",
       "      <td>Dima</td>\n",
       "      <td>3</td>\n",
       "      <td>no</td>\n",
       "      <td>Blue</td>\n",
       "    </tr>\n",
       "    <tr>\n",
       "      <th>c</th>\n",
       "      <td>Katherine</td>\n",
       "      <td>2</td>\n",
       "      <td>yes</td>\n",
       "      <td>Orange</td>\n",
       "    </tr>\n",
       "    <tr>\n",
       "      <th>d</th>\n",
       "      <td>James</td>\n",
       "      <td>3</td>\n",
       "      <td>no</td>\n",
       "      <td>Red</td>\n",
       "    </tr>\n",
       "    <tr>\n",
       "      <th>e</th>\n",
       "      <td>Emily</td>\n",
       "      <td>2</td>\n",
       "      <td>no</td>\n",
       "      <td>White</td>\n",
       "    </tr>\n",
       "    <tr>\n",
       "      <th>f</th>\n",
       "      <td>Michael</td>\n",
       "      <td>3</td>\n",
       "      <td>yes</td>\n",
       "      <td>White</td>\n",
       "    </tr>\n",
       "    <tr>\n",
       "      <th>g</th>\n",
       "      <td>Matthew</td>\n",
       "      <td>4</td>\n",
       "      <td>yes</td>\n",
       "      <td>Blue</td>\n",
       "    </tr>\n",
       "    <tr>\n",
       "      <th>h</th>\n",
       "      <td>Laura</td>\n",
       "      <td>4</td>\n",
       "      <td>no</td>\n",
       "      <td>Green</td>\n",
       "    </tr>\n",
       "    <tr>\n",
       "      <th>i</th>\n",
       "      <td>Kevin</td>\n",
       "      <td>2</td>\n",
       "      <td>no</td>\n",
       "      <td>Green</td>\n",
       "    </tr>\n",
       "    <tr>\n",
       "      <th>j</th>\n",
       "      <td>Jonas</td>\n",
       "      <td>4</td>\n",
       "      <td>yes</td>\n",
       "      <td>Red</td>\n",
       "    </tr>\n",
       "    <tr>\n",
       "      <th>k</th>\n",
       "      <td>Hitesh</td>\n",
       "      <td>3</td>\n",
       "      <td>yes</td>\n",
       "      <td>orange</td>\n",
       "    </tr>\n",
       "  </tbody>\n",
       "</table>\n",
       "</div>"
      ],
      "text/plain": [
       "        name  attempts qualify   Color\n",
       "a  Anastasia         4     yes     Red\n",
       "b       Dima         3      no    Blue\n",
       "c  Katherine         2     yes  Orange\n",
       "d      James         3      no     Red\n",
       "e      Emily         2      no   White\n",
       "f    Michael         3     yes   White\n",
       "g    Matthew         4     yes    Blue\n",
       "h      Laura         4      no   Green\n",
       "i      Kevin         2      no   Green\n",
       "j      Jonas         4     yes     Red\n",
       "k     Hitesh         3     yes  orange"
      ]
     },
     "execution_count": 21,
     "metadata": {},
     "output_type": "execute_result"
    }
   ],
   "source": [
    "### write a program insert new column in DataFrame.\n",
    "color = ['Red','Blue','Orange','Red','White','White','Blue','Green','Green','Red','orange']\n",
    "print()\n",
    "exam_df['Color']=color\n",
    "exam_df"
   ]
  },
  {
   "cell_type": "markdown",
   "id": "e7b3c403",
   "metadata": {},
   "source": [
    "### Write a Pandas program to iterate over rows in a DataFrame."
   ]
  },
  {
   "cell_type": "code",
   "execution_count": 22,
   "id": "008cdf40",
   "metadata": {},
   "outputs": [
    {
     "name": "stdout",
     "output_type": "stream",
     "text": [
      "Anastasia   Red\n",
      "Dima   Blue\n",
      "Katherine   Orange\n",
      "James   Red\n",
      "Emily   White\n",
      "Michael   White\n",
      "Matthew   Blue\n",
      "Laura   Green\n",
      "Kevin   Green\n",
      "Jonas   Red\n",
      "Hitesh   orange\n"
     ]
    }
   ],
   "source": [
    "exam_df\n",
    "\n",
    "for index,i in exam_df.iterrows():\n",
    "    print(i['name'],' ',i['Color'])\n",
    "    "
   ]
  },
  {
   "cell_type": "code",
   "execution_count": 23,
   "id": "30749f08",
   "metadata": {},
   "outputs": [
    {
     "data": {
      "text/plain": [
       "Index(['name', 'attempts', 'qualify', 'Color'], dtype='object')"
      ]
     },
     "execution_count": 23,
     "metadata": {},
     "output_type": "execute_result"
    }
   ],
   "source": [
    "exam_df.columns"
   ]
  },
  {
   "cell_type": "markdown",
   "id": "b06ff0db",
   "metadata": {},
   "source": [
    "### Write a Pandas program to rename columns of a given DataFrame."
   ]
  },
  {
   "cell_type": "code",
   "execution_count": 24,
   "id": "5bfa1203",
   "metadata": {},
   "outputs": [
    {
     "data": {
      "text/html": [
       "<div>\n",
       "<style scoped>\n",
       "    .dataframe tbody tr th:only-of-type {\n",
       "        vertical-align: middle;\n",
       "    }\n",
       "\n",
       "    .dataframe tbody tr th {\n",
       "        vertical-align: top;\n",
       "    }\n",
       "\n",
       "    .dataframe thead th {\n",
       "        text-align: right;\n",
       "    }\n",
       "</style>\n",
       "<table border=\"1\" class=\"dataframe\">\n",
       "  <thead>\n",
       "    <tr style=\"text-align: right;\">\n",
       "      <th></th>\n",
       "      <th>Name</th>\n",
       "      <th>attempts</th>\n",
       "      <th>Qualify</th>\n",
       "      <th>Color</th>\n",
       "    </tr>\n",
       "  </thead>\n",
       "  <tbody>\n",
       "    <tr>\n",
       "      <th>a</th>\n",
       "      <td>Anastasia</td>\n",
       "      <td>4</td>\n",
       "      <td>yes</td>\n",
       "      <td>Red</td>\n",
       "    </tr>\n",
       "    <tr>\n",
       "      <th>b</th>\n",
       "      <td>Dima</td>\n",
       "      <td>3</td>\n",
       "      <td>no</td>\n",
       "      <td>Blue</td>\n",
       "    </tr>\n",
       "    <tr>\n",
       "      <th>c</th>\n",
       "      <td>Katherine</td>\n",
       "      <td>2</td>\n",
       "      <td>yes</td>\n",
       "      <td>Orange</td>\n",
       "    </tr>\n",
       "    <tr>\n",
       "      <th>d</th>\n",
       "      <td>James</td>\n",
       "      <td>3</td>\n",
       "      <td>no</td>\n",
       "      <td>Red</td>\n",
       "    </tr>\n",
       "    <tr>\n",
       "      <th>e</th>\n",
       "      <td>Emily</td>\n",
       "      <td>2</td>\n",
       "      <td>no</td>\n",
       "      <td>White</td>\n",
       "    </tr>\n",
       "    <tr>\n",
       "      <th>f</th>\n",
       "      <td>Michael</td>\n",
       "      <td>3</td>\n",
       "      <td>yes</td>\n",
       "      <td>White</td>\n",
       "    </tr>\n",
       "    <tr>\n",
       "      <th>g</th>\n",
       "      <td>Matthew</td>\n",
       "      <td>4</td>\n",
       "      <td>yes</td>\n",
       "      <td>Blue</td>\n",
       "    </tr>\n",
       "    <tr>\n",
       "      <th>h</th>\n",
       "      <td>Laura</td>\n",
       "      <td>4</td>\n",
       "      <td>no</td>\n",
       "      <td>Green</td>\n",
       "    </tr>\n",
       "    <tr>\n",
       "      <th>i</th>\n",
       "      <td>Kevin</td>\n",
       "      <td>2</td>\n",
       "      <td>no</td>\n",
       "      <td>Green</td>\n",
       "    </tr>\n",
       "    <tr>\n",
       "      <th>j</th>\n",
       "      <td>Jonas</td>\n",
       "      <td>4</td>\n",
       "      <td>yes</td>\n",
       "      <td>Red</td>\n",
       "    </tr>\n",
       "    <tr>\n",
       "      <th>k</th>\n",
       "      <td>Hitesh</td>\n",
       "      <td>3</td>\n",
       "      <td>yes</td>\n",
       "      <td>orange</td>\n",
       "    </tr>\n",
       "  </tbody>\n",
       "</table>\n",
       "</div>"
      ],
      "text/plain": [
       "        Name  attempts Qualify   Color\n",
       "a  Anastasia         4     yes     Red\n",
       "b       Dima         3      no    Blue\n",
       "c  Katherine         2     yes  Orange\n",
       "d      James         3      no     Red\n",
       "e      Emily         2      no   White\n",
       "f    Michael         3     yes   White\n",
       "g    Matthew         4     yes    Blue\n",
       "h      Laura         4      no   Green\n",
       "i      Kevin         2      no   Green\n",
       "j      Jonas         4     yes     Red\n",
       "k     Hitesh         3     yes  orange"
      ]
     },
     "execution_count": 24,
     "metadata": {},
     "output_type": "execute_result"
    }
   ],
   "source": [
    "exam_df=exam_df.rename(columns={'name':'Name','qualify':'Qualify'})\n",
    "exam_df"
   ]
  },
  {
   "cell_type": "markdown",
   "id": "593c5840",
   "metadata": {},
   "source": [
    "### Write a Pandas program to add one row in an existing DataFrame."
   ]
  },
  {
   "cell_type": "markdown",
   "id": "84b7650a",
   "metadata": {},
   "source": [
    "### 1) using the DataFrame.append() function."
   ]
  },
  {
   "cell_type": "code",
   "execution_count": 25,
   "id": "8d5c79df",
   "metadata": {},
   "outputs": [
    {
     "name": "stdout",
     "output_type": "stream",
     "text": [
      "\n",
      "Adding new row in DataFrame\n"
     ]
    },
    {
     "data": {
      "text/html": [
       "<div>\n",
       "<style scoped>\n",
       "    .dataframe tbody tr th:only-of-type {\n",
       "        vertical-align: middle;\n",
       "    }\n",
       "\n",
       "    .dataframe tbody tr th {\n",
       "        vertical-align: top;\n",
       "    }\n",
       "\n",
       "    .dataframe thead th {\n",
       "        text-align: right;\n",
       "    }\n",
       "</style>\n",
       "<table border=\"1\" class=\"dataframe\">\n",
       "  <thead>\n",
       "    <tr style=\"text-align: right;\">\n",
       "      <th></th>\n",
       "      <th>Name</th>\n",
       "      <th>attempts</th>\n",
       "      <th>Qualify</th>\n",
       "      <th>Color</th>\n",
       "    </tr>\n",
       "  </thead>\n",
       "  <tbody>\n",
       "    <tr>\n",
       "      <th>0</th>\n",
       "      <td>Anastasia</td>\n",
       "      <td>4</td>\n",
       "      <td>yes</td>\n",
       "      <td>Red</td>\n",
       "    </tr>\n",
       "    <tr>\n",
       "      <th>1</th>\n",
       "      <td>Dima</td>\n",
       "      <td>3</td>\n",
       "      <td>no</td>\n",
       "      <td>Blue</td>\n",
       "    </tr>\n",
       "    <tr>\n",
       "      <th>2</th>\n",
       "      <td>Katherine</td>\n",
       "      <td>2</td>\n",
       "      <td>yes</td>\n",
       "      <td>Orange</td>\n",
       "    </tr>\n",
       "    <tr>\n",
       "      <th>3</th>\n",
       "      <td>James</td>\n",
       "      <td>3</td>\n",
       "      <td>no</td>\n",
       "      <td>Red</td>\n",
       "    </tr>\n",
       "    <tr>\n",
       "      <th>4</th>\n",
       "      <td>Emily</td>\n",
       "      <td>2</td>\n",
       "      <td>no</td>\n",
       "      <td>White</td>\n",
       "    </tr>\n",
       "    <tr>\n",
       "      <th>5</th>\n",
       "      <td>Michael</td>\n",
       "      <td>3</td>\n",
       "      <td>yes</td>\n",
       "      <td>White</td>\n",
       "    </tr>\n",
       "    <tr>\n",
       "      <th>6</th>\n",
       "      <td>Matthew</td>\n",
       "      <td>4</td>\n",
       "      <td>yes</td>\n",
       "      <td>Blue</td>\n",
       "    </tr>\n",
       "    <tr>\n",
       "      <th>7</th>\n",
       "      <td>Laura</td>\n",
       "      <td>4</td>\n",
       "      <td>no</td>\n",
       "      <td>Green</td>\n",
       "    </tr>\n",
       "    <tr>\n",
       "      <th>8</th>\n",
       "      <td>Kevin</td>\n",
       "      <td>2</td>\n",
       "      <td>no</td>\n",
       "      <td>Green</td>\n",
       "    </tr>\n",
       "    <tr>\n",
       "      <th>9</th>\n",
       "      <td>Jonas</td>\n",
       "      <td>4</td>\n",
       "      <td>yes</td>\n",
       "      <td>Red</td>\n",
       "    </tr>\n",
       "    <tr>\n",
       "      <th>10</th>\n",
       "      <td>Hitesh</td>\n",
       "      <td>3</td>\n",
       "      <td>yes</td>\n",
       "      <td>orange</td>\n",
       "    </tr>\n",
       "    <tr>\n",
       "      <th>11</th>\n",
       "      <td>Sonal</td>\n",
       "      <td>2</td>\n",
       "      <td>No</td>\n",
       "      <td>Pink</td>\n",
       "    </tr>\n",
       "  </tbody>\n",
       "</table>\n",
       "</div>"
      ],
      "text/plain": [
       "         Name  attempts Qualify   Color\n",
       "0   Anastasia         4     yes     Red\n",
       "1        Dima         3      no    Blue\n",
       "2   Katherine         2     yes  Orange\n",
       "3       James         3      no     Red\n",
       "4       Emily         2      no   White\n",
       "5     Michael         3     yes   White\n",
       "6     Matthew         4     yes    Blue\n",
       "7       Laura         4      no   Green\n",
       "8       Kevin         2      no   Green\n",
       "9       Jonas         4     yes     Red\n",
       "10     Hitesh         3     yes  orange\n",
       "11      Sonal         2      No    Pink"
      ]
     },
     "execution_count": 25,
     "metadata": {},
     "output_type": "execute_result"
    }
   ],
   "source": [
    "exam_df\n",
    "\n",
    "df1={'Name':'Sonal','attempts':2,'Qualify':'No','Color':'Pink'}\n",
    "print()\n",
    "print(\"Adding new row in DataFrame\")\n",
    "exam_df=exam_df.append(df1,ignore_index=True)\n",
    "exam_df"
   ]
  },
  {
   "cell_type": "markdown",
   "id": "bc8fbc80",
   "metadata": {},
   "source": [
    "### 2) using the pandas.concat()."
   ]
  },
  {
   "cell_type": "code",
   "execution_count": 26,
   "id": "0ac33348",
   "metadata": {},
   "outputs": [
    {
     "name": "stdout",
     "output_type": "stream",
     "text": [
      "\n",
      "Convert Dictionary into DataFrame\n",
      "\n"
     ]
    },
    {
     "data": {
      "text/html": [
       "<div>\n",
       "<style scoped>\n",
       "    .dataframe tbody tr th:only-of-type {\n",
       "        vertical-align: middle;\n",
       "    }\n",
       "\n",
       "    .dataframe tbody tr th {\n",
       "        vertical-align: top;\n",
       "    }\n",
       "\n",
       "    .dataframe thead th {\n",
       "        text-align: right;\n",
       "    }\n",
       "</style>\n",
       "<table border=\"1\" class=\"dataframe\">\n",
       "  <thead>\n",
       "    <tr style=\"text-align: right;\">\n",
       "      <th></th>\n",
       "      <th>Name</th>\n",
       "      <th>attempts</th>\n",
       "      <th>Qualify</th>\n",
       "      <th>Color</th>\n",
       "    </tr>\n",
       "  </thead>\n",
       "  <tbody>\n",
       "    <tr>\n",
       "      <th>0</th>\n",
       "      <td>Anastasia</td>\n",
       "      <td>4</td>\n",
       "      <td>yes</td>\n",
       "      <td>Red</td>\n",
       "    </tr>\n",
       "    <tr>\n",
       "      <th>1</th>\n",
       "      <td>Dima</td>\n",
       "      <td>3</td>\n",
       "      <td>no</td>\n",
       "      <td>Blue</td>\n",
       "    </tr>\n",
       "    <tr>\n",
       "      <th>2</th>\n",
       "      <td>Katherine</td>\n",
       "      <td>2</td>\n",
       "      <td>yes</td>\n",
       "      <td>Orange</td>\n",
       "    </tr>\n",
       "    <tr>\n",
       "      <th>3</th>\n",
       "      <td>James</td>\n",
       "      <td>3</td>\n",
       "      <td>no</td>\n",
       "      <td>Red</td>\n",
       "    </tr>\n",
       "    <tr>\n",
       "      <th>4</th>\n",
       "      <td>Emily</td>\n",
       "      <td>2</td>\n",
       "      <td>no</td>\n",
       "      <td>White</td>\n",
       "    </tr>\n",
       "    <tr>\n",
       "      <th>5</th>\n",
       "      <td>Michael</td>\n",
       "      <td>3</td>\n",
       "      <td>yes</td>\n",
       "      <td>White</td>\n",
       "    </tr>\n",
       "    <tr>\n",
       "      <th>6</th>\n",
       "      <td>Matthew</td>\n",
       "      <td>4</td>\n",
       "      <td>yes</td>\n",
       "      <td>Blue</td>\n",
       "    </tr>\n",
       "    <tr>\n",
       "      <th>7</th>\n",
       "      <td>Laura</td>\n",
       "      <td>4</td>\n",
       "      <td>no</td>\n",
       "      <td>Green</td>\n",
       "    </tr>\n",
       "    <tr>\n",
       "      <th>8</th>\n",
       "      <td>Kevin</td>\n",
       "      <td>2</td>\n",
       "      <td>no</td>\n",
       "      <td>Green</td>\n",
       "    </tr>\n",
       "    <tr>\n",
       "      <th>9</th>\n",
       "      <td>Jonas</td>\n",
       "      <td>4</td>\n",
       "      <td>yes</td>\n",
       "      <td>Red</td>\n",
       "    </tr>\n",
       "    <tr>\n",
       "      <th>10</th>\n",
       "      <td>Hitesh</td>\n",
       "      <td>3</td>\n",
       "      <td>yes</td>\n",
       "      <td>orange</td>\n",
       "    </tr>\n",
       "    <tr>\n",
       "      <th>11</th>\n",
       "      <td>Sonal</td>\n",
       "      <td>2</td>\n",
       "      <td>No</td>\n",
       "      <td>Pink</td>\n",
       "    </tr>\n",
       "    <tr>\n",
       "      <th>12</th>\n",
       "      <td>Sannidhya</td>\n",
       "      <td>2</td>\n",
       "      <td>Yes</td>\n",
       "      <td>Blue</td>\n",
       "    </tr>\n",
       "    <tr>\n",
       "      <th>13</th>\n",
       "      <td>Prajwal</td>\n",
       "      <td>1</td>\n",
       "      <td>No</td>\n",
       "      <td>Red</td>\n",
       "    </tr>\n",
       "  </tbody>\n",
       "</table>\n",
       "</div>"
      ],
      "text/plain": [
       "         Name  attempts Qualify   Color\n",
       "0   Anastasia         4     yes     Red\n",
       "1        Dima         3      no    Blue\n",
       "2   Katherine         2     yes  Orange\n",
       "3       James         3      no     Red\n",
       "4       Emily         2      no   White\n",
       "5     Michael         3     yes   White\n",
       "6     Matthew         4     yes    Blue\n",
       "7       Laura         4      no   Green\n",
       "8       Kevin         2      no   Green\n",
       "9       Jonas         4     yes     Red\n",
       "10     Hitesh         3     yes  orange\n",
       "11      Sonal         2      No    Pink\n",
       "12  Sannidhya         2     Yes    Blue\n",
       "13    Prajwal         1      No     Red"
      ]
     },
     "execution_count": 26,
     "metadata": {},
     "output_type": "execute_result"
    }
   ],
   "source": [
    "df2={'Name':['Sannidhya','Prajwal'],\n",
    "     'attempts':[2,1],\n",
    "     'Qualify':['Yes','No'],\n",
    "     'Color':['Blue','Red']}\n",
    "print()\n",
    "print(\"Convert Dictionary into DataFrame\")\n",
    "\n",
    "df_new=pd.DataFrame(df2)\n",
    "df_new\n",
    "print()\n",
    "result=pd.concat([exam_df,df_new],ignore_index=True)\n",
    "result"
   ]
  },
  {
   "cell_type": "markdown",
   "id": "cc5cf7f9",
   "metadata": {},
   "source": [
    "### Adding new Columns By using DataFrame.insert()."
   ]
  },
  {
   "cell_type": "code",
   "execution_count": 27,
   "id": "bc8afa89",
   "metadata": {},
   "outputs": [
    {
     "name": "stdout",
     "output_type": "stream",
     "text": [
      "\n",
      "Converting Dictionary into DataFrame\n",
      "\n",
      "Adding new Column in DataFrame\n"
     ]
    },
    {
     "data": {
      "text/html": [
       "<div>\n",
       "<style scoped>\n",
       "    .dataframe tbody tr th:only-of-type {\n",
       "        vertical-align: middle;\n",
       "    }\n",
       "\n",
       "    .dataframe tbody tr th {\n",
       "        vertical-align: top;\n",
       "    }\n",
       "\n",
       "    .dataframe thead th {\n",
       "        text-align: right;\n",
       "    }\n",
       "</style>\n",
       "<table border=\"1\" class=\"dataframe\">\n",
       "  <thead>\n",
       "    <tr style=\"text-align: right;\">\n",
       "      <th></th>\n",
       "      <th>Name</th>\n",
       "      <th>Height</th>\n",
       "      <th>Age</th>\n",
       "      <th>Qualification</th>\n",
       "    </tr>\n",
       "  </thead>\n",
       "  <tbody>\n",
       "    <tr>\n",
       "      <th>0</th>\n",
       "      <td>Jai</td>\n",
       "      <td>5.1</td>\n",
       "      <td>30</td>\n",
       "      <td>Msc</td>\n",
       "    </tr>\n",
       "    <tr>\n",
       "      <th>1</th>\n",
       "      <td>Princi</td>\n",
       "      <td>6.2</td>\n",
       "      <td>26</td>\n",
       "      <td>MA</td>\n",
       "    </tr>\n",
       "    <tr>\n",
       "      <th>2</th>\n",
       "      <td>Gaurav</td>\n",
       "      <td>5.1</td>\n",
       "      <td>28</td>\n",
       "      <td>Msc</td>\n",
       "    </tr>\n",
       "    <tr>\n",
       "      <th>3</th>\n",
       "      <td>Anuj</td>\n",
       "      <td>5.2</td>\n",
       "      <td>35</td>\n",
       "      <td>Msc</td>\n",
       "    </tr>\n",
       "  </tbody>\n",
       "</table>\n",
       "</div>"
      ],
      "text/plain": [
       "     Name  Height  Age Qualification\n",
       "0     Jai     5.1   30           Msc\n",
       "1  Princi     6.2   26            MA\n",
       "2  Gaurav     5.1   28           Msc\n",
       "3    Anuj     5.2   35           Msc"
      ]
     },
     "execution_count": 27,
     "metadata": {},
     "output_type": "execute_result"
    }
   ],
   "source": [
    "# Define a dictionary containing Students data\n",
    "data = {'Name': ['Jai', 'Princi', 'Gaurav', 'Anuj'],\n",
    "        'Height': [5.1, 6.2, 5.1, 5.2],\n",
    "        'Qualification': ['Msc', 'MA', 'Msc', 'Msc']}\n",
    "print()\n",
    "print(\"Converting Dictionary into DataFrame\")\n",
    "data_df=pd.DataFrame(data)\n",
    "data_df\n",
    "print()\n",
    "print(\"Adding new Column in DataFrame\")\n",
    "data_df.insert(2,'Age',[30,26,28,35],allow_duplicates=False)\n",
    "data_df"
   ]
  },
  {
   "cell_type": "markdown",
   "id": "74f69cc5",
   "metadata": {},
   "source": [
    "### Adding new Columns Using Dataframe.assign() method.\n",
    "This method will create a new dataframe with a new column added to the old dataframe."
   ]
  },
  {
   "cell_type": "code",
   "execution_count": 28,
   "id": "78d2e9a6",
   "metadata": {},
   "outputs": [
    {
     "data": {
      "text/html": [
       "<div>\n",
       "<style scoped>\n",
       "    .dataframe tbody tr th:only-of-type {\n",
       "        vertical-align: middle;\n",
       "    }\n",
       "\n",
       "    .dataframe tbody tr th {\n",
       "        vertical-align: top;\n",
       "    }\n",
       "\n",
       "    .dataframe thead th {\n",
       "        text-align: right;\n",
       "    }\n",
       "</style>\n",
       "<table border=\"1\" class=\"dataframe\">\n",
       "  <thead>\n",
       "    <tr style=\"text-align: right;\">\n",
       "      <th></th>\n",
       "      <th>Name</th>\n",
       "      <th>Height</th>\n",
       "      <th>Age</th>\n",
       "      <th>Qualification</th>\n",
       "      <th>address</th>\n",
       "    </tr>\n",
       "  </thead>\n",
       "  <tbody>\n",
       "    <tr>\n",
       "      <th>0</th>\n",
       "      <td>Jai</td>\n",
       "      <td>5.1</td>\n",
       "      <td>30</td>\n",
       "      <td>Msc</td>\n",
       "      <td>Delhi</td>\n",
       "    </tr>\n",
       "    <tr>\n",
       "      <th>1</th>\n",
       "      <td>Princi</td>\n",
       "      <td>6.2</td>\n",
       "      <td>26</td>\n",
       "      <td>MA</td>\n",
       "      <td>Bangalore</td>\n",
       "    </tr>\n",
       "    <tr>\n",
       "      <th>2</th>\n",
       "      <td>Gaurav</td>\n",
       "      <td>5.1</td>\n",
       "      <td>28</td>\n",
       "      <td>Msc</td>\n",
       "      <td>Chennai</td>\n",
       "    </tr>\n",
       "    <tr>\n",
       "      <th>3</th>\n",
       "      <td>Anuj</td>\n",
       "      <td>5.2</td>\n",
       "      <td>35</td>\n",
       "      <td>Msc</td>\n",
       "      <td>Patna</td>\n",
       "    </tr>\n",
       "  </tbody>\n",
       "</table>\n",
       "</div>"
      ],
      "text/plain": [
       "     Name  Height  Age Qualification    address\n",
       "0     Jai     5.1   30           Msc      Delhi\n",
       "1  Princi     6.2   26            MA  Bangalore\n",
       "2  Gaurav     5.1   28           Msc    Chennai\n",
       "3    Anuj     5.2   35           Msc      Patna"
      ]
     },
     "execution_count": 28,
     "metadata": {},
     "output_type": "execute_result"
    }
   ],
   "source": [
    "data_df\n",
    "# Using 'Address' as the column name and equating it to the list\n",
    "new_data=data_df.assign(address=['Delhi', 'Bangalore', 'Chennai', 'Patna'])\n",
    "new_data"
   ]
  },
  {
   "cell_type": "markdown",
   "id": "75d1c25f",
   "metadata": {},
   "source": [
    "### Adding new Columns UsingBy using a dictionary."
   ]
  },
  {
   "cell_type": "code",
   "execution_count": 44,
   "id": "bc17a4b0",
   "metadata": {},
   "outputs": [
    {
     "data": {
      "text/html": [
       "<div>\n",
       "<style scoped>\n",
       "    .dataframe tbody tr th:only-of-type {\n",
       "        vertical-align: middle;\n",
       "    }\n",
       "\n",
       "    .dataframe tbody tr th {\n",
       "        vertical-align: top;\n",
       "    }\n",
       "\n",
       "    .dataframe thead th {\n",
       "        text-align: right;\n",
       "    }\n",
       "</style>\n",
       "<table border=\"1\" class=\"dataframe\">\n",
       "  <thead>\n",
       "    <tr style=\"text-align: right;\">\n",
       "      <th></th>\n",
       "      <th>Name</th>\n",
       "      <th>Height</th>\n",
       "      <th>Age</th>\n",
       "      <th>Qualification</th>\n",
       "      <th>address</th>\n",
       "      <th>Education</th>\n",
       "    </tr>\n",
       "  </thead>\n",
       "  <tbody>\n",
       "    <tr>\n",
       "      <th>0</th>\n",
       "      <td>Jai</td>\n",
       "      <td>5.1</td>\n",
       "      <td>30</td>\n",
       "      <td>Msc</td>\n",
       "      <td>Delhi</td>\n",
       "      <td>Jai</td>\n",
       "    </tr>\n",
       "    <tr>\n",
       "      <th>1</th>\n",
       "      <td>Princi</td>\n",
       "      <td>6.2</td>\n",
       "      <td>26</td>\n",
       "      <td>MA</td>\n",
       "      <td>Bangalore</td>\n",
       "      <td>Princi</td>\n",
       "    </tr>\n",
       "    <tr>\n",
       "      <th>2</th>\n",
       "      <td>Gaurav</td>\n",
       "      <td>5.1</td>\n",
       "      <td>28</td>\n",
       "      <td>Msc</td>\n",
       "      <td>Chennai</td>\n",
       "      <td>Gaurav</td>\n",
       "    </tr>\n",
       "    <tr>\n",
       "      <th>3</th>\n",
       "      <td>Anuj</td>\n",
       "      <td>5.2</td>\n",
       "      <td>35</td>\n",
       "      <td>Msc</td>\n",
       "      <td>Patna</td>\n",
       "      <td>Anuj</td>\n",
       "    </tr>\n",
       "  </tbody>\n",
       "</table>\n",
       "</div>"
      ],
      "text/plain": [
       "     Name  Height  Age Qualification    address Education\n",
       "0     Jai     5.1   30           Msc      Delhi       Jai\n",
       "1  Princi     6.2   26            MA  Bangalore    Princi\n",
       "2  Gaurav     5.1   28           Msc    Chennai    Gaurav\n",
       "3    Anuj     5.2   35           Msc      Patna      Anuj"
      ]
     },
     "execution_count": 44,
     "metadata": {},
     "output_type": "execute_result"
    }
   ],
   "source": [
    "new_data\n",
    "\n",
    "Education={'Jai':'BCom','Princi':'B.E','Gaurav':'Doctor','Anuj':'Lowyer'}\n",
    "\n",
    "new_data['Education']=Education\n",
    "new_data"
   ]
  },
  {
   "cell_type": "markdown",
   "id": "bc4bc3e0",
   "metadata": {},
   "source": [
    "### Create a new column in Pandas DataFrame based on the existing columns."
   ]
  },
  {
   "cell_type": "code",
   "execution_count": 30,
   "id": "4bd4e2e5",
   "metadata": {},
   "outputs": [
    {
     "data": {
      "text/html": [
       "<div>\n",
       "<style scoped>\n",
       "    .dataframe tbody tr th:only-of-type {\n",
       "        vertical-align: middle;\n",
       "    }\n",
       "\n",
       "    .dataframe tbody tr th {\n",
       "        vertical-align: top;\n",
       "    }\n",
       "\n",
       "    .dataframe thead th {\n",
       "        text-align: right;\n",
       "    }\n",
       "</style>\n",
       "<table border=\"1\" class=\"dataframe\">\n",
       "  <thead>\n",
       "    <tr style=\"text-align: right;\">\n",
       "      <th></th>\n",
       "      <th>Date</th>\n",
       "      <th>Event</th>\n",
       "      <th>Cost</th>\n",
       "      <th>Discounted_Price</th>\n",
       "    </tr>\n",
       "  </thead>\n",
       "  <tbody>\n",
       "    <tr>\n",
       "      <th>0</th>\n",
       "      <td>10/2/2011</td>\n",
       "      <td>Music</td>\n",
       "      <td>10000</td>\n",
       "      <td>9000.0</td>\n",
       "    </tr>\n",
       "    <tr>\n",
       "      <th>1</th>\n",
       "      <td>11/2/2011</td>\n",
       "      <td>Poetry</td>\n",
       "      <td>5000</td>\n",
       "      <td>4500.0</td>\n",
       "    </tr>\n",
       "    <tr>\n",
       "      <th>2</th>\n",
       "      <td>12/2/2011</td>\n",
       "      <td>Theatre</td>\n",
       "      <td>15000</td>\n",
       "      <td>13500.0</td>\n",
       "    </tr>\n",
       "    <tr>\n",
       "      <th>3</th>\n",
       "      <td>13/2/2011</td>\n",
       "      <td>Comedy</td>\n",
       "      <td>2000</td>\n",
       "      <td>1800.0</td>\n",
       "    </tr>\n",
       "  </tbody>\n",
       "</table>\n",
       "</div>"
      ],
      "text/plain": [
       "        Date    Event   Cost  Discounted_Price\n",
       "0  10/2/2011    Music  10000            9000.0\n",
       "1  11/2/2011   Poetry   5000            4500.0\n",
       "2  12/2/2011  Theatre  15000           13500.0\n",
       "3  13/2/2011   Comedy   2000            1800.0"
      ]
     },
     "execution_count": 30,
     "metadata": {},
     "output_type": "execute_result"
    }
   ],
   "source": [
    "df = pd.DataFrame({'Date':['10/2/2011', '11/2/2011', '12/2/2011', '13/2/2011'],\n",
    "                    'Event':['Music', 'Poetry', 'Theatre', 'Comedy'],\n",
    "                    'Cost':[10000, 5000, 15000, 2000]})\n",
    "df\n",
    "\n",
    "df['Discounted_Price']=df['Cost']-(0.1*df['Cost'])\n",
    "df"
   ]
  },
  {
   "cell_type": "code",
   "execution_count": 31,
   "id": "767f9ba5",
   "metadata": {},
   "outputs": [
    {
     "name": "stdout",
     "output_type": "stream",
     "text": [
      "        Date    Event   Cost  Discounted_Price\n",
      "2  12/2/2011  Theatre  15000           13500.0\n"
     ]
    }
   ],
   "source": [
    "### Finding the maximum values in Cost columns.\n",
    "\n",
    "print(df[df.Cost==df.Cost.max()])"
   ]
  },
  {
   "cell_type": "code",
   "execution_count": 32,
   "id": "bbe57ff7",
   "metadata": {},
   "outputs": [
    {
     "name": "stdout",
     "output_type": "stream",
     "text": [
      "        Date    Event   Cost  Discounted_Price\n",
      "2  12/2/2011  Theatre  15000           13500.0\n"
     ]
    }
   ],
   "source": [
    "### Finding the maximum values in Discounted_price columns.\n",
    "print(df[df.Discounted_Price==df.Discounted_Price.max()])"
   ]
  },
  {
   "cell_type": "code",
   "execution_count": 33,
   "id": "ab913c10",
   "metadata": {},
   "outputs": [
    {
     "name": "stdout",
     "output_type": "stream",
     "text": [
      "        Date   Event  Cost  Discounted_Price\n",
      "3  13/2/2011  Comedy  2000            1800.0\n"
     ]
    }
   ],
   "source": [
    "### Finding the minimum values in Cost columns.\n",
    "print(df[df.Cost==df.Cost.min()])"
   ]
  },
  {
   "cell_type": "code",
   "execution_count": 45,
   "id": "fadb8079",
   "metadata": {},
   "outputs": [
    {
     "name": "stdout",
     "output_type": "stream",
     "text": [
      "        Date    Event   Cost  Discounted_Price\n",
      "2  12/2/2011  Theatre  15000           13500.0\n"
     ]
    }
   ],
   "source": [
    "### Finding the maximum values in Discounted_price columns.\n",
    "print(df[df.Discounted_Price==df.Discounted_Price.max()])"
   ]
  },
  {
   "cell_type": "markdown",
   "id": "13c32669",
   "metadata": {},
   "source": [
    "## How to Sort a Pandas DataFrame based on column names or row index?."
   ]
  },
  {
   "cell_type": "code",
   "execution_count": 35,
   "id": "b19efd6c",
   "metadata": {},
   "outputs": [
    {
     "name": "stdout",
     "output_type": "stream",
     "text": [
      "\n",
      "Converting LIst of Tuples into DataFrame\n"
     ]
    },
    {
     "data": {
      "text/html": [
       "<div>\n",
       "<style scoped>\n",
       "    .dataframe tbody tr th:only-of-type {\n",
       "        vertical-align: middle;\n",
       "    }\n",
       "\n",
       "    .dataframe tbody tr th {\n",
       "        vertical-align: top;\n",
       "    }\n",
       "\n",
       "    .dataframe thead th {\n",
       "        text-align: right;\n",
       "    }\n",
       "</style>\n",
       "<table border=\"1\" class=\"dataframe\">\n",
       "  <thead>\n",
       "    <tr style=\"text-align: right;\">\n",
       "      <th></th>\n",
       "      <th>Name</th>\n",
       "      <th>Age</th>\n",
       "      <th>City</th>\n",
       "      <th>College</th>\n",
       "    </tr>\n",
       "  </thead>\n",
       "  <tbody>\n",
       "    <tr>\n",
       "      <th>b</th>\n",
       "      <td>Ankit</td>\n",
       "      <td>22</td>\n",
       "      <td>Up</td>\n",
       "      <td>Geu</td>\n",
       "    </tr>\n",
       "    <tr>\n",
       "      <th>c</th>\n",
       "      <td>Ankita</td>\n",
       "      <td>31</td>\n",
       "      <td>Delhi</td>\n",
       "      <td>Gehu</td>\n",
       "    </tr>\n",
       "    <tr>\n",
       "      <th>a</th>\n",
       "      <td>Rahul</td>\n",
       "      <td>16</td>\n",
       "      <td>Tokyo</td>\n",
       "      <td>Abes</td>\n",
       "    </tr>\n",
       "    <tr>\n",
       "      <th>e</th>\n",
       "      <td>Simran</td>\n",
       "      <td>41</td>\n",
       "      <td>Delhi</td>\n",
       "      <td>Gehu</td>\n",
       "    </tr>\n",
       "    <tr>\n",
       "      <th>f</th>\n",
       "      <td>Shaurya</td>\n",
       "      <td>33</td>\n",
       "      <td>Delhi</td>\n",
       "      <td>Geu</td>\n",
       "    </tr>\n",
       "    <tr>\n",
       "      <th>g</th>\n",
       "      <td>Harshita</td>\n",
       "      <td>35</td>\n",
       "      <td>Mumbai</td>\n",
       "      <td>Bhu</td>\n",
       "    </tr>\n",
       "    <tr>\n",
       "      <th>i</th>\n",
       "      <td>Swapnil</td>\n",
       "      <td>35</td>\n",
       "      <td>Mp</td>\n",
       "      <td>Geu</td>\n",
       "    </tr>\n",
       "    <tr>\n",
       "      <th>j</th>\n",
       "      <td>Priya</td>\n",
       "      <td>35</td>\n",
       "      <td>Uk</td>\n",
       "      <td>Geu</td>\n",
       "    </tr>\n",
       "    <tr>\n",
       "      <th>k</th>\n",
       "      <td>Jeet</td>\n",
       "      <td>35</td>\n",
       "      <td>Guj</td>\n",
       "      <td>Gehu</td>\n",
       "    </tr>\n",
       "    <tr>\n",
       "      <th>d</th>\n",
       "      <td>Ananya</td>\n",
       "      <td>35</td>\n",
       "      <td>Up</td>\n",
       "      <td>Bhu</td>\n",
       "    </tr>\n",
       "  </tbody>\n",
       "</table>\n",
       "</div>"
      ],
      "text/plain": [
       "       Name  Age    City College\n",
       "b     Ankit   22      Up     Geu\n",
       "c    Ankita   31   Delhi    Gehu\n",
       "a     Rahul   16   Tokyo    Abes\n",
       "e    Simran   41   Delhi    Gehu\n",
       "f   Shaurya   33   Delhi     Geu\n",
       "g  Harshita   35  Mumbai     Bhu\n",
       "i   Swapnil   35      Mp     Geu\n",
       "j     Priya   35      Uk     Geu\n",
       "k      Jeet   35     Guj    Gehu\n",
       "d    Ananya   35      Up     Bhu"
      ]
     },
     "execution_count": 35,
     "metadata": {},
     "output_type": "execute_result"
    }
   ],
   "source": [
    "# List of Tuples\n",
    "students = [('Ankit', 22, 'Up', 'Geu'),\n",
    "           ('Ankita', 31, 'Delhi', 'Gehu'),\n",
    "           ('Rahul', 16, 'Tokyo', 'Abes'),\n",
    "           ('Simran', 41, 'Delhi', 'Gehu'),\n",
    "           ('Shaurya', 33, 'Delhi', 'Geu'),\n",
    "           ('Harshita', 35, 'Mumbai', 'Bhu' ),\n",
    "           ('Swapnil', 35, 'Mp', 'Geu'),\n",
    "           ('Priya', 35, 'Uk', 'Geu'),\n",
    "           ('Jeet', 35, 'Guj', 'Gehu'),\n",
    "           ('Ananya', 35, 'Up', 'Bhu')\n",
    "            ]\n",
    "\n",
    "students\n",
    "print()\n",
    "print(\"Converting LIst of Tuples into DataFrame\")\n",
    "\n",
    "stud_df=pd.DataFrame(students,columns=['Name','Age','City','College'],index =[ 'b', 'c', 'a', 'e', 'f','g', 'i', 'j', 'k', 'd'])\n",
    "stud_df"
   ]
  },
  {
   "cell_type": "markdown",
   "id": "fecdbdc2",
   "metadata": {},
   "source": [
    "###  Sort the rows of dataframe based on row index label names."
   ]
  },
  {
   "cell_type": "code",
   "execution_count": 36,
   "id": "e26ee085",
   "metadata": {},
   "outputs": [
    {
     "data": {
      "text/html": [
       "<div>\n",
       "<style scoped>\n",
       "    .dataframe tbody tr th:only-of-type {\n",
       "        vertical-align: middle;\n",
       "    }\n",
       "\n",
       "    .dataframe tbody tr th {\n",
       "        vertical-align: top;\n",
       "    }\n",
       "\n",
       "    .dataframe thead th {\n",
       "        text-align: right;\n",
       "    }\n",
       "</style>\n",
       "<table border=\"1\" class=\"dataframe\">\n",
       "  <thead>\n",
       "    <tr style=\"text-align: right;\">\n",
       "      <th></th>\n",
       "      <th>Name</th>\n",
       "      <th>Age</th>\n",
       "      <th>City</th>\n",
       "      <th>College</th>\n",
       "    </tr>\n",
       "  </thead>\n",
       "  <tbody>\n",
       "    <tr>\n",
       "      <th>a</th>\n",
       "      <td>Rahul</td>\n",
       "      <td>16</td>\n",
       "      <td>Tokyo</td>\n",
       "      <td>Abes</td>\n",
       "    </tr>\n",
       "    <tr>\n",
       "      <th>b</th>\n",
       "      <td>Ankit</td>\n",
       "      <td>22</td>\n",
       "      <td>Up</td>\n",
       "      <td>Geu</td>\n",
       "    </tr>\n",
       "    <tr>\n",
       "      <th>c</th>\n",
       "      <td>Ankita</td>\n",
       "      <td>31</td>\n",
       "      <td>Delhi</td>\n",
       "      <td>Gehu</td>\n",
       "    </tr>\n",
       "    <tr>\n",
       "      <th>d</th>\n",
       "      <td>Ananya</td>\n",
       "      <td>35</td>\n",
       "      <td>Up</td>\n",
       "      <td>Bhu</td>\n",
       "    </tr>\n",
       "    <tr>\n",
       "      <th>e</th>\n",
       "      <td>Simran</td>\n",
       "      <td>41</td>\n",
       "      <td>Delhi</td>\n",
       "      <td>Gehu</td>\n",
       "    </tr>\n",
       "    <tr>\n",
       "      <th>f</th>\n",
       "      <td>Shaurya</td>\n",
       "      <td>33</td>\n",
       "      <td>Delhi</td>\n",
       "      <td>Geu</td>\n",
       "    </tr>\n",
       "    <tr>\n",
       "      <th>g</th>\n",
       "      <td>Harshita</td>\n",
       "      <td>35</td>\n",
       "      <td>Mumbai</td>\n",
       "      <td>Bhu</td>\n",
       "    </tr>\n",
       "    <tr>\n",
       "      <th>i</th>\n",
       "      <td>Swapnil</td>\n",
       "      <td>35</td>\n",
       "      <td>Mp</td>\n",
       "      <td>Geu</td>\n",
       "    </tr>\n",
       "    <tr>\n",
       "      <th>j</th>\n",
       "      <td>Priya</td>\n",
       "      <td>35</td>\n",
       "      <td>Uk</td>\n",
       "      <td>Geu</td>\n",
       "    </tr>\n",
       "    <tr>\n",
       "      <th>k</th>\n",
       "      <td>Jeet</td>\n",
       "      <td>35</td>\n",
       "      <td>Guj</td>\n",
       "      <td>Gehu</td>\n",
       "    </tr>\n",
       "  </tbody>\n",
       "</table>\n",
       "</div>"
      ],
      "text/plain": [
       "       Name  Age    City College\n",
       "a     Rahul   16   Tokyo    Abes\n",
       "b     Ankit   22      Up     Geu\n",
       "c    Ankita   31   Delhi    Gehu\n",
       "d    Ananya   35      Up     Bhu\n",
       "e    Simran   41   Delhi    Gehu\n",
       "f   Shaurya   33   Delhi     Geu\n",
       "g  Harshita   35  Mumbai     Bhu\n",
       "i   Swapnil   35      Mp     Geu\n",
       "j     Priya   35      Uk     Geu\n",
       "k      Jeet   35     Guj    Gehu"
      ]
     },
     "execution_count": 36,
     "metadata": {},
     "output_type": "execute_result"
    }
   ],
   "source": [
    "stud_sort=stud_df.sort_index()\n",
    "stud_sort"
   ]
  },
  {
   "cell_type": "markdown",
   "id": "c78d90cb",
   "metadata": {},
   "source": [
    "### Sort rows of a Dataframe in Descending Order based on Row index labels."
   ]
  },
  {
   "cell_type": "code",
   "execution_count": 37,
   "id": "c9aa256a",
   "metadata": {},
   "outputs": [
    {
     "data": {
      "text/html": [
       "<div>\n",
       "<style scoped>\n",
       "    .dataframe tbody tr th:only-of-type {\n",
       "        vertical-align: middle;\n",
       "    }\n",
       "\n",
       "    .dataframe tbody tr th {\n",
       "        vertical-align: top;\n",
       "    }\n",
       "\n",
       "    .dataframe thead th {\n",
       "        text-align: right;\n",
       "    }\n",
       "</style>\n",
       "<table border=\"1\" class=\"dataframe\">\n",
       "  <thead>\n",
       "    <tr style=\"text-align: right;\">\n",
       "      <th></th>\n",
       "      <th>Name</th>\n",
       "      <th>Age</th>\n",
       "      <th>City</th>\n",
       "      <th>College</th>\n",
       "    </tr>\n",
       "  </thead>\n",
       "  <tbody>\n",
       "    <tr>\n",
       "      <th>k</th>\n",
       "      <td>Jeet</td>\n",
       "      <td>35</td>\n",
       "      <td>Guj</td>\n",
       "      <td>Gehu</td>\n",
       "    </tr>\n",
       "    <tr>\n",
       "      <th>j</th>\n",
       "      <td>Priya</td>\n",
       "      <td>35</td>\n",
       "      <td>Uk</td>\n",
       "      <td>Geu</td>\n",
       "    </tr>\n",
       "    <tr>\n",
       "      <th>i</th>\n",
       "      <td>Swapnil</td>\n",
       "      <td>35</td>\n",
       "      <td>Mp</td>\n",
       "      <td>Geu</td>\n",
       "    </tr>\n",
       "    <tr>\n",
       "      <th>g</th>\n",
       "      <td>Harshita</td>\n",
       "      <td>35</td>\n",
       "      <td>Mumbai</td>\n",
       "      <td>Bhu</td>\n",
       "    </tr>\n",
       "    <tr>\n",
       "      <th>f</th>\n",
       "      <td>Shaurya</td>\n",
       "      <td>33</td>\n",
       "      <td>Delhi</td>\n",
       "      <td>Geu</td>\n",
       "    </tr>\n",
       "    <tr>\n",
       "      <th>e</th>\n",
       "      <td>Simran</td>\n",
       "      <td>41</td>\n",
       "      <td>Delhi</td>\n",
       "      <td>Gehu</td>\n",
       "    </tr>\n",
       "    <tr>\n",
       "      <th>d</th>\n",
       "      <td>Ananya</td>\n",
       "      <td>35</td>\n",
       "      <td>Up</td>\n",
       "      <td>Bhu</td>\n",
       "    </tr>\n",
       "    <tr>\n",
       "      <th>c</th>\n",
       "      <td>Ankita</td>\n",
       "      <td>31</td>\n",
       "      <td>Delhi</td>\n",
       "      <td>Gehu</td>\n",
       "    </tr>\n",
       "    <tr>\n",
       "      <th>b</th>\n",
       "      <td>Ankit</td>\n",
       "      <td>22</td>\n",
       "      <td>Up</td>\n",
       "      <td>Geu</td>\n",
       "    </tr>\n",
       "    <tr>\n",
       "      <th>a</th>\n",
       "      <td>Rahul</td>\n",
       "      <td>16</td>\n",
       "      <td>Tokyo</td>\n",
       "      <td>Abes</td>\n",
       "    </tr>\n",
       "  </tbody>\n",
       "</table>\n",
       "</div>"
      ],
      "text/plain": [
       "       Name  Age    City College\n",
       "k      Jeet   35     Guj    Gehu\n",
       "j     Priya   35      Uk     Geu\n",
       "i   Swapnil   35      Mp     Geu\n",
       "g  Harshita   35  Mumbai     Bhu\n",
       "f   Shaurya   33   Delhi     Geu\n",
       "e    Simran   41   Delhi    Gehu\n",
       "d    Ananya   35      Up     Bhu\n",
       "c    Ankita   31   Delhi    Gehu\n",
       "b     Ankit   22      Up     Geu\n",
       "a     Rahul   16   Tokyo    Abes"
      ]
     },
     "execution_count": 37,
     "metadata": {},
     "output_type": "execute_result"
    }
   ],
   "source": [
    "stud_result=stud_df.sort_index(ascending=False)\n",
    "stud_result"
   ]
  },
  {
   "cell_type": "markdown",
   "id": "aa34bf12",
   "metadata": {},
   "source": [
    "### Sort rows of a Dataframe based on Row index labels in Place."
   ]
  },
  {
   "cell_type": "code",
   "execution_count": 38,
   "id": "f7216b53",
   "metadata": {},
   "outputs": [
    {
     "data": {
      "text/html": [
       "<div>\n",
       "<style scoped>\n",
       "    .dataframe tbody tr th:only-of-type {\n",
       "        vertical-align: middle;\n",
       "    }\n",
       "\n",
       "    .dataframe tbody tr th {\n",
       "        vertical-align: top;\n",
       "    }\n",
       "\n",
       "    .dataframe thead th {\n",
       "        text-align: right;\n",
       "    }\n",
       "</style>\n",
       "<table border=\"1\" class=\"dataframe\">\n",
       "  <thead>\n",
       "    <tr style=\"text-align: right;\">\n",
       "      <th></th>\n",
       "      <th>Name</th>\n",
       "      <th>Age</th>\n",
       "      <th>City</th>\n",
       "      <th>College</th>\n",
       "    </tr>\n",
       "  </thead>\n",
       "  <tbody>\n",
       "    <tr>\n",
       "      <th>a</th>\n",
       "      <td>Rahul</td>\n",
       "      <td>16</td>\n",
       "      <td>Tokyo</td>\n",
       "      <td>Abes</td>\n",
       "    </tr>\n",
       "    <tr>\n",
       "      <th>b</th>\n",
       "      <td>Ankit</td>\n",
       "      <td>22</td>\n",
       "      <td>Up</td>\n",
       "      <td>Geu</td>\n",
       "    </tr>\n",
       "    <tr>\n",
       "      <th>c</th>\n",
       "      <td>Ankita</td>\n",
       "      <td>31</td>\n",
       "      <td>Delhi</td>\n",
       "      <td>Gehu</td>\n",
       "    </tr>\n",
       "    <tr>\n",
       "      <th>d</th>\n",
       "      <td>Ananya</td>\n",
       "      <td>35</td>\n",
       "      <td>Up</td>\n",
       "      <td>Bhu</td>\n",
       "    </tr>\n",
       "    <tr>\n",
       "      <th>e</th>\n",
       "      <td>Simran</td>\n",
       "      <td>41</td>\n",
       "      <td>Delhi</td>\n",
       "      <td>Gehu</td>\n",
       "    </tr>\n",
       "    <tr>\n",
       "      <th>f</th>\n",
       "      <td>Shaurya</td>\n",
       "      <td>33</td>\n",
       "      <td>Delhi</td>\n",
       "      <td>Geu</td>\n",
       "    </tr>\n",
       "    <tr>\n",
       "      <th>g</th>\n",
       "      <td>Harshita</td>\n",
       "      <td>35</td>\n",
       "      <td>Mumbai</td>\n",
       "      <td>Bhu</td>\n",
       "    </tr>\n",
       "    <tr>\n",
       "      <th>i</th>\n",
       "      <td>Swapnil</td>\n",
       "      <td>35</td>\n",
       "      <td>Mp</td>\n",
       "      <td>Geu</td>\n",
       "    </tr>\n",
       "    <tr>\n",
       "      <th>j</th>\n",
       "      <td>Priya</td>\n",
       "      <td>35</td>\n",
       "      <td>Uk</td>\n",
       "      <td>Geu</td>\n",
       "    </tr>\n",
       "    <tr>\n",
       "      <th>k</th>\n",
       "      <td>Jeet</td>\n",
       "      <td>35</td>\n",
       "      <td>Guj</td>\n",
       "      <td>Gehu</td>\n",
       "    </tr>\n",
       "  </tbody>\n",
       "</table>\n",
       "</div>"
      ],
      "text/plain": [
       "       Name  Age    City College\n",
       "a     Rahul   16   Tokyo    Abes\n",
       "b     Ankit   22      Up     Geu\n",
       "c    Ankita   31   Delhi    Gehu\n",
       "d    Ananya   35      Up     Bhu\n",
       "e    Simran   41   Delhi    Gehu\n",
       "f   Shaurya   33   Delhi     Geu\n",
       "g  Harshita   35  Mumbai     Bhu\n",
       "i   Swapnil   35      Mp     Geu\n",
       "j     Priya   35      Uk     Geu\n",
       "k      Jeet   35     Guj    Gehu"
      ]
     },
     "execution_count": 38,
     "metadata": {},
     "output_type": "execute_result"
    }
   ],
   "source": [
    "stud_df.sort_index(inplace=True)\n",
    "stud_df"
   ]
  },
  {
   "cell_type": "markdown",
   "id": "08e98a3c",
   "metadata": {},
   "source": [
    "### Sort Columns of a Dataframe based on Column Names."
   ]
  },
  {
   "cell_type": "code",
   "execution_count": 39,
   "id": "c63f42df",
   "metadata": {},
   "outputs": [
    {
     "data": {
      "text/html": [
       "<div>\n",
       "<style scoped>\n",
       "    .dataframe tbody tr th:only-of-type {\n",
       "        vertical-align: middle;\n",
       "    }\n",
       "\n",
       "    .dataframe tbody tr th {\n",
       "        vertical-align: top;\n",
       "    }\n",
       "\n",
       "    .dataframe thead th {\n",
       "        text-align: right;\n",
       "    }\n",
       "</style>\n",
       "<table border=\"1\" class=\"dataframe\">\n",
       "  <thead>\n",
       "    <tr style=\"text-align: right;\">\n",
       "      <th></th>\n",
       "      <th>Age</th>\n",
       "      <th>City</th>\n",
       "      <th>College</th>\n",
       "      <th>Name</th>\n",
       "    </tr>\n",
       "  </thead>\n",
       "  <tbody>\n",
       "    <tr>\n",
       "      <th>a</th>\n",
       "      <td>16</td>\n",
       "      <td>Tokyo</td>\n",
       "      <td>Abes</td>\n",
       "      <td>Rahul</td>\n",
       "    </tr>\n",
       "    <tr>\n",
       "      <th>b</th>\n",
       "      <td>22</td>\n",
       "      <td>Up</td>\n",
       "      <td>Geu</td>\n",
       "      <td>Ankit</td>\n",
       "    </tr>\n",
       "    <tr>\n",
       "      <th>c</th>\n",
       "      <td>31</td>\n",
       "      <td>Delhi</td>\n",
       "      <td>Gehu</td>\n",
       "      <td>Ankita</td>\n",
       "    </tr>\n",
       "    <tr>\n",
       "      <th>d</th>\n",
       "      <td>35</td>\n",
       "      <td>Up</td>\n",
       "      <td>Bhu</td>\n",
       "      <td>Ananya</td>\n",
       "    </tr>\n",
       "    <tr>\n",
       "      <th>e</th>\n",
       "      <td>41</td>\n",
       "      <td>Delhi</td>\n",
       "      <td>Gehu</td>\n",
       "      <td>Simran</td>\n",
       "    </tr>\n",
       "    <tr>\n",
       "      <th>f</th>\n",
       "      <td>33</td>\n",
       "      <td>Delhi</td>\n",
       "      <td>Geu</td>\n",
       "      <td>Shaurya</td>\n",
       "    </tr>\n",
       "    <tr>\n",
       "      <th>g</th>\n",
       "      <td>35</td>\n",
       "      <td>Mumbai</td>\n",
       "      <td>Bhu</td>\n",
       "      <td>Harshita</td>\n",
       "    </tr>\n",
       "    <tr>\n",
       "      <th>i</th>\n",
       "      <td>35</td>\n",
       "      <td>Mp</td>\n",
       "      <td>Geu</td>\n",
       "      <td>Swapnil</td>\n",
       "    </tr>\n",
       "    <tr>\n",
       "      <th>j</th>\n",
       "      <td>35</td>\n",
       "      <td>Uk</td>\n",
       "      <td>Geu</td>\n",
       "      <td>Priya</td>\n",
       "    </tr>\n",
       "    <tr>\n",
       "      <th>k</th>\n",
       "      <td>35</td>\n",
       "      <td>Guj</td>\n",
       "      <td>Gehu</td>\n",
       "      <td>Jeet</td>\n",
       "    </tr>\n",
       "  </tbody>\n",
       "</table>\n",
       "</div>"
      ],
      "text/plain": [
       "   Age    City College      Name\n",
       "a   16   Tokyo    Abes     Rahul\n",
       "b   22      Up     Geu     Ankit\n",
       "c   31   Delhi    Gehu    Ankita\n",
       "d   35      Up     Bhu    Ananya\n",
       "e   41   Delhi    Gehu    Simran\n",
       "f   33   Delhi     Geu   Shaurya\n",
       "g   35  Mumbai     Bhu  Harshita\n",
       "i   35      Mp     Geu   Swapnil\n",
       "j   35      Uk     Geu     Priya\n",
       "k   35     Guj    Gehu      Jeet"
      ]
     },
     "execution_count": 39,
     "metadata": {},
     "output_type": "execute_result"
    }
   ],
   "source": [
    "sort_column=stud_df.sort_index(axis=1)\n",
    "sort_column"
   ]
  },
  {
   "cell_type": "markdown",
   "id": "c4f48df2",
   "metadata": {},
   "source": [
    "### Sort a dataframe in descending order based on column names."
   ]
  },
  {
   "cell_type": "code",
   "execution_count": 40,
   "id": "9dafaf3c",
   "metadata": {},
   "outputs": [
    {
     "data": {
      "text/html": [
       "<div>\n",
       "<style scoped>\n",
       "    .dataframe tbody tr th:only-of-type {\n",
       "        vertical-align: middle;\n",
       "    }\n",
       "\n",
       "    .dataframe tbody tr th {\n",
       "        vertical-align: top;\n",
       "    }\n",
       "\n",
       "    .dataframe thead th {\n",
       "        text-align: right;\n",
       "    }\n",
       "</style>\n",
       "<table border=\"1\" class=\"dataframe\">\n",
       "  <thead>\n",
       "    <tr style=\"text-align: right;\">\n",
       "      <th></th>\n",
       "      <th>Name</th>\n",
       "      <th>College</th>\n",
       "      <th>City</th>\n",
       "      <th>Age</th>\n",
       "    </tr>\n",
       "  </thead>\n",
       "  <tbody>\n",
       "    <tr>\n",
       "      <th>a</th>\n",
       "      <td>Rahul</td>\n",
       "      <td>Abes</td>\n",
       "      <td>Tokyo</td>\n",
       "      <td>16</td>\n",
       "    </tr>\n",
       "    <tr>\n",
       "      <th>b</th>\n",
       "      <td>Ankit</td>\n",
       "      <td>Geu</td>\n",
       "      <td>Up</td>\n",
       "      <td>22</td>\n",
       "    </tr>\n",
       "    <tr>\n",
       "      <th>c</th>\n",
       "      <td>Ankita</td>\n",
       "      <td>Gehu</td>\n",
       "      <td>Delhi</td>\n",
       "      <td>31</td>\n",
       "    </tr>\n",
       "    <tr>\n",
       "      <th>d</th>\n",
       "      <td>Ananya</td>\n",
       "      <td>Bhu</td>\n",
       "      <td>Up</td>\n",
       "      <td>35</td>\n",
       "    </tr>\n",
       "    <tr>\n",
       "      <th>e</th>\n",
       "      <td>Simran</td>\n",
       "      <td>Gehu</td>\n",
       "      <td>Delhi</td>\n",
       "      <td>41</td>\n",
       "    </tr>\n",
       "    <tr>\n",
       "      <th>f</th>\n",
       "      <td>Shaurya</td>\n",
       "      <td>Geu</td>\n",
       "      <td>Delhi</td>\n",
       "      <td>33</td>\n",
       "    </tr>\n",
       "    <tr>\n",
       "      <th>g</th>\n",
       "      <td>Harshita</td>\n",
       "      <td>Bhu</td>\n",
       "      <td>Mumbai</td>\n",
       "      <td>35</td>\n",
       "    </tr>\n",
       "    <tr>\n",
       "      <th>i</th>\n",
       "      <td>Swapnil</td>\n",
       "      <td>Geu</td>\n",
       "      <td>Mp</td>\n",
       "      <td>35</td>\n",
       "    </tr>\n",
       "    <tr>\n",
       "      <th>j</th>\n",
       "      <td>Priya</td>\n",
       "      <td>Geu</td>\n",
       "      <td>Uk</td>\n",
       "      <td>35</td>\n",
       "    </tr>\n",
       "    <tr>\n",
       "      <th>k</th>\n",
       "      <td>Jeet</td>\n",
       "      <td>Gehu</td>\n",
       "      <td>Guj</td>\n",
       "      <td>35</td>\n",
       "    </tr>\n",
       "  </tbody>\n",
       "</table>\n",
       "</div>"
      ],
      "text/plain": [
       "       Name College    City  Age\n",
       "a     Rahul    Abes   Tokyo   16\n",
       "b     Ankit     Geu      Up   22\n",
       "c    Ankita    Gehu   Delhi   31\n",
       "d    Ananya     Bhu      Up   35\n",
       "e    Simran    Gehu   Delhi   41\n",
       "f   Shaurya     Geu   Delhi   33\n",
       "g  Harshita     Bhu  Mumbai   35\n",
       "i   Swapnil     Geu      Mp   35\n",
       "j     Priya     Geu      Uk   35\n",
       "k      Jeet    Gehu     Guj   35"
      ]
     },
     "execution_count": 40,
     "metadata": {},
     "output_type": "execute_result"
    }
   ],
   "source": [
    "sort_data=stud_df.sort_index(ascending=False,axis=1)\n",
    "sort_data"
   ]
  },
  {
   "cell_type": "code",
   "execution_count": 41,
   "id": "a6a40ee4",
   "metadata": {},
   "outputs": [
    {
     "data": {
      "text/html": [
       "<div>\n",
       "<style scoped>\n",
       "    .dataframe tbody tr th:only-of-type {\n",
       "        vertical-align: middle;\n",
       "    }\n",
       "\n",
       "    .dataframe tbody tr th {\n",
       "        vertical-align: top;\n",
       "    }\n",
       "\n",
       "    .dataframe thead th {\n",
       "        text-align: right;\n",
       "    }\n",
       "</style>\n",
       "<table border=\"1\" class=\"dataframe\">\n",
       "  <thead>\n",
       "    <tr style=\"text-align: right;\">\n",
       "      <th></th>\n",
       "      <th>Name</th>\n",
       "      <th>Age</th>\n",
       "      <th>City</th>\n",
       "      <th>College</th>\n",
       "    </tr>\n",
       "  </thead>\n",
       "  <tbody>\n",
       "    <tr>\n",
       "      <th>e</th>\n",
       "      <td>Simran</td>\n",
       "      <td>41</td>\n",
       "      <td>Delhi</td>\n",
       "      <td>Gehu</td>\n",
       "    </tr>\n",
       "    <tr>\n",
       "      <th>d</th>\n",
       "      <td>Ananya</td>\n",
       "      <td>35</td>\n",
       "      <td>Up</td>\n",
       "      <td>Bhu</td>\n",
       "    </tr>\n",
       "    <tr>\n",
       "      <th>g</th>\n",
       "      <td>Harshita</td>\n",
       "      <td>35</td>\n",
       "      <td>Mumbai</td>\n",
       "      <td>Bhu</td>\n",
       "    </tr>\n",
       "    <tr>\n",
       "      <th>i</th>\n",
       "      <td>Swapnil</td>\n",
       "      <td>35</td>\n",
       "      <td>Mp</td>\n",
       "      <td>Geu</td>\n",
       "    </tr>\n",
       "    <tr>\n",
       "      <th>j</th>\n",
       "      <td>Priya</td>\n",
       "      <td>35</td>\n",
       "      <td>Uk</td>\n",
       "      <td>Geu</td>\n",
       "    </tr>\n",
       "    <tr>\n",
       "      <th>k</th>\n",
       "      <td>Jeet</td>\n",
       "      <td>35</td>\n",
       "      <td>Guj</td>\n",
       "      <td>Gehu</td>\n",
       "    </tr>\n",
       "    <tr>\n",
       "      <th>f</th>\n",
       "      <td>Shaurya</td>\n",
       "      <td>33</td>\n",
       "      <td>Delhi</td>\n",
       "      <td>Geu</td>\n",
       "    </tr>\n",
       "    <tr>\n",
       "      <th>c</th>\n",
       "      <td>Ankita</td>\n",
       "      <td>31</td>\n",
       "      <td>Delhi</td>\n",
       "      <td>Gehu</td>\n",
       "    </tr>\n",
       "    <tr>\n",
       "      <th>b</th>\n",
       "      <td>Ankit</td>\n",
       "      <td>22</td>\n",
       "      <td>Up</td>\n",
       "      <td>Geu</td>\n",
       "    </tr>\n",
       "    <tr>\n",
       "      <th>a</th>\n",
       "      <td>Rahul</td>\n",
       "      <td>16</td>\n",
       "      <td>Tokyo</td>\n",
       "      <td>Abes</td>\n",
       "    </tr>\n",
       "  </tbody>\n",
       "</table>\n",
       "</div>"
      ],
      "text/plain": [
       "       Name  Age    City College\n",
       "e    Simran   41   Delhi    Gehu\n",
       "d    Ananya   35      Up     Bhu\n",
       "g  Harshita   35  Mumbai     Bhu\n",
       "i   Swapnil   35      Mp     Geu\n",
       "j     Priya   35      Uk     Geu\n",
       "k      Jeet   35     Guj    Gehu\n",
       "f   Shaurya   33   Delhi     Geu\n",
       "c    Ankita   31   Delhi    Gehu\n",
       "b     Ankit   22      Up     Geu\n",
       "a     Rahul   16   Tokyo    Abes"
      ]
     },
     "execution_count": 41,
     "metadata": {},
     "output_type": "execute_result"
    }
   ],
   "source": [
    "stud_df.sort_values(by='Age',ascending=False)"
   ]
  },
  {
   "cell_type": "markdown",
   "id": "d62725d5",
   "metadata": {},
   "source": [
    "### Write a Pandas program to combining two series into a DataFrame."
   ]
  },
  {
   "cell_type": "code",
   "execution_count": 42,
   "id": "240f6e89",
   "metadata": {},
   "outputs": [
    {
     "name": "stdout",
     "output_type": "stream",
     "text": [
      "\n",
      "0       100\n",
      "1       200\n",
      "2    python\n",
      "3    300.12\n",
      "4       400\n",
      "dtype: object\n",
      "\n",
      "0       10\n",
      "1       20\n",
      "2      php\n",
      "3    30.12\n",
      "4       40\n",
      "dtype: object\n"
     ]
    },
    {
     "data": {
      "text/html": [
       "<div>\n",
       "<style scoped>\n",
       "    .dataframe tbody tr th:only-of-type {\n",
       "        vertical-align: middle;\n",
       "    }\n",
       "\n",
       "    .dataframe tbody tr th {\n",
       "        vertical-align: top;\n",
       "    }\n",
       "\n",
       "    .dataframe thead th {\n",
       "        text-align: right;\n",
       "    }\n",
       "</style>\n",
       "<table border=\"1\" class=\"dataframe\">\n",
       "  <thead>\n",
       "    <tr style=\"text-align: right;\">\n",
       "      <th></th>\n",
       "      <th>0</th>\n",
       "      <th>1</th>\n",
       "    </tr>\n",
       "  </thead>\n",
       "  <tbody>\n",
       "    <tr>\n",
       "      <th>0</th>\n",
       "      <td>100</td>\n",
       "      <td>10</td>\n",
       "    </tr>\n",
       "    <tr>\n",
       "      <th>1</th>\n",
       "      <td>200</td>\n",
       "      <td>20</td>\n",
       "    </tr>\n",
       "    <tr>\n",
       "      <th>2</th>\n",
       "      <td>python</td>\n",
       "      <td>php</td>\n",
       "    </tr>\n",
       "    <tr>\n",
       "      <th>3</th>\n",
       "      <td>300.12</td>\n",
       "      <td>30.12</td>\n",
       "    </tr>\n",
       "    <tr>\n",
       "      <th>4</th>\n",
       "      <td>400</td>\n",
       "      <td>40</td>\n",
       "    </tr>\n",
       "  </tbody>\n",
       "</table>\n",
       "</div>"
      ],
      "text/plain": [
       "        0      1\n",
       "0     100     10\n",
       "1     200     20\n",
       "2  python    php\n",
       "3  300.12  30.12\n",
       "4     400     40"
      ]
     },
     "execution_count": 42,
     "metadata": {},
     "output_type": "execute_result"
    }
   ],
   "source": [
    "import pandas as pd\n",
    "import numpy as np\n",
    "s1 = pd.Series(['100', '200', 'python', '300.12', '400'])\n",
    "s2 = pd.Series(['10', '20', 'php', '30.12', '40'])\n",
    "print()\n",
    "print(s1)\n",
    "print()\n",
    "print(s2)\n",
    "\n",
    "result=pd.concat([s1,s2],axis=1)\n",
    "result"
   ]
  },
  {
   "cell_type": "code",
   "execution_count": null,
   "id": "88f7518e",
   "metadata": {},
   "outputs": [],
   "source": []
  },
  {
   "cell_type": "code",
   "execution_count": null,
   "id": "fe00adb9",
   "metadata": {},
   "outputs": [],
   "source": []
  }
 ],
 "metadata": {
  "kernelspec": {
   "display_name": "Python 3",
   "language": "python",
   "name": "python3"
  },
  "language_info": {
   "codemirror_mode": {
    "name": "ipython",
    "version": 3
   },
   "file_extension": ".py",
   "mimetype": "text/x-python",
   "name": "python",
   "nbconvert_exporter": "python",
   "pygments_lexer": "ipython3",
   "version": "3.7.4"
  }
 },
 "nbformat": 4,
 "nbformat_minor": 5
}
