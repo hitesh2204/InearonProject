{
 "cells": [
  {
   "cell_type": "markdown",
   "id": "e8a1e377",
   "metadata": {},
   "source": [
    "### Write a Pandas program to create and display a one-dimensional array-like object containing an array of data."
   ]
  },
  {
   "cell_type": "code",
   "execution_count": 7,
   "id": "02cef973",
   "metadata": {},
   "outputs": [
    {
     "name": "stdout",
     "output_type": "stream",
     "text": [
      "0    10\n",
      "1    20\n",
      "2    30\n",
      "3    40\n",
      "4    50\n",
      "5    60\n",
      "dtype: int64\n",
      "<class 'pandas.core.series.Series'>\n"
     ]
    }
   ],
   "source": [
    "import pandas as pd\n",
    "data=pd.Series([10,20,30,40,50,60])\n",
    "print(data)\n",
    "print(type(data))"
   ]
  },
  {
   "cell_type": "code",
   "execution_count": 8,
   "id": "abcca947",
   "metadata": {},
   "outputs": [
    {
     "name": "stdout",
     "output_type": "stream",
     "text": [
      "0     10.5\n",
      "1     20.5\n",
      "2     12.5\n",
      "3     30.5\n",
      "4    100.6\n",
      "5      5.0\n",
      "6     10.0\n",
      "dtype: float64\n",
      "<class 'pandas.core.series.Series'>\n"
     ]
    }
   ],
   "source": [
    "data_float=pd.Series([10.5,20.5,12.50,30.5,100.6,5,10])\n",
    "print(data_float)\n",
    "print(type(data_float))"
   ]
  },
  {
   "cell_type": "code",
   "execution_count": 9,
   "id": "003d2e75",
   "metadata": {},
   "outputs": [
    {
     "name": "stdout",
     "output_type": "stream",
     "text": [
      "0      Hitesh\n",
      "1          30\n",
      "2        10.1\n",
      "3    Ralegaon\n",
      "dtype: object\n",
      "<class 'pandas.core.series.Series'>\n"
     ]
    }
   ],
   "source": [
    "test=pd.Series(['Hitesh',30,10.100,'Ralegaon'])\n",
    "print(test)\n",
    "print(type(test))"
   ]
  },
  {
   "cell_type": "markdown",
   "id": "350f2165",
   "metadata": {},
   "source": [
    "### Write a Pandas program to convert a Pandas module Series to Python list and it’s type."
   ]
  },
  {
   "cell_type": "code",
   "execution_count": 11,
   "id": "d68d452a",
   "metadata": {},
   "outputs": [
    {
     "name": "stdout",
     "output_type": "stream",
     "text": [
      "0    10\n",
      "1    22\n",
      "2    33\n",
      "3    40\n",
      "4    45\n",
      "5    55\n",
      "dtype: int64\n",
      "<class 'pandas.core.series.Series'>\n",
      "\n",
      "Number after changing the dattype into Python LIST\n",
      "[10, 22, 33, 40, 45, 55]\n",
      "<class 'list'>\n"
     ]
    }
   ],
   "source": [
    "number=pd.Series([10,22,33,40,45,55])\n",
    "print(number)\n",
    "print(type(number))\n",
    "print()\n",
    "print(\"Number after changing the dattype into Python LIST\")\n",
    "print(number.tolist())\n",
    "print(type(number.tolist()))\n",
    "print()\n"
   ]
  },
  {
   "cell_type": "markdown",
   "id": "01500ee6",
   "metadata": {},
   "source": [
    "### Write a Pandas program to add, subtract, multiple and divide two Pandas Series."
   ]
  },
  {
   "cell_type": "code",
   "execution_count": 18,
   "id": "4f3cbfda",
   "metadata": {},
   "outputs": [
    {
     "name": "stdout",
     "output_type": "stream",
     "text": [
      "\n",
      "Performing Addition Operation\n",
      "0    30\n",
      "1    95\n",
      "2    42\n",
      "3    60\n",
      "4    90\n",
      "dtype: int64\n",
      "\n",
      "Performing Subtraction Operation\n",
      "0   -10\n",
      "1   -55\n",
      "2    18\n",
      "3    10\n",
      "4   -10\n",
      "dtype: int64\n",
      "\n",
      "Performing Multiplication Operation\n",
      "0     200\n",
      "1    1500\n",
      "2     360\n",
      "3     875\n",
      "4    2000\n",
      "dtype: int64\n",
      "\n",
      "Performing Division Operation\n",
      "0    0.500000\n",
      "1    0.266667\n",
      "2    2.500000\n",
      "3    1.400000\n",
      "4    0.800000\n",
      "dtype: float64\n"
     ]
    }
   ],
   "source": [
    "data=pd.Series([10,20,30,35,40])\n",
    "data1=pd.Series([20,75,12,25,50])\n",
    "print()\n",
    "print(\"Performing Addition Operation\")\n",
    "result=data+data1\n",
    "print(result)\n",
    "print()\n",
    "print(\"Performing Subtraction Operation\")\n",
    "result1=data-data1\n",
    "print(result1)\n",
    "print()\n",
    "print(\"Performing Multiplication Operation\")\n",
    "result2=data*data1\n",
    "print(result2)\n",
    "print()\n",
    "print(\"Performing Division Operation\")\n",
    "result3=data/data1\n",
    "print(result3)"
   ]
  },
  {
   "cell_type": "markdown",
   "id": "54a1504d",
   "metadata": {},
   "source": [
    "### Write a Pandas program to compare the elements of the two Pandas Series."
   ]
  },
  {
   "cell_type": "code",
   "execution_count": 19,
   "id": "c01fdfe1",
   "metadata": {},
   "outputs": [
    {
     "name": "stdout",
     "output_type": "stream",
     "text": [
      "\n",
      "Comparing series is equal or not\n",
      "0    False\n",
      "1    False\n",
      "2    False\n",
      "3    False\n",
      "4    False\n",
      "dtype: bool\n",
      "\n",
      "Comparing data > data1\n",
      "0    False\n",
      "1    False\n",
      "2     True\n",
      "3     True\n",
      "4    False\n",
      "dtype: bool\n",
      "\n",
      "Comparing data < data1\n",
      "0     True\n",
      "1     True\n",
      "2    False\n",
      "3    False\n",
      "4     True\n",
      "dtype: bool\n"
     ]
    }
   ],
   "source": [
    "data=pd.Series([10,20,30,35,40])\n",
    "data1=pd.Series([20,75,12,25,50])\n",
    "print()\n",
    "\n",
    "print(\"Comparing series is equal or not\")\n",
    "result=data==data1\n",
    "print(result)\n",
    "print()\n",
    "print(\"Comparing data > data1\")\n",
    "result1=data>data1\n",
    "print(result1)\n",
    "print()\n",
    "print(\"Comparing data < data1\")\n",
    "result1=data<data1\n",
    "print(result1)\n",
    "\n"
   ]
  },
  {
   "cell_type": "markdown",
   "id": "35f52faf",
   "metadata": {},
   "source": [
    "### Write a Pandas program to convert a dictionary to a Pandas series."
   ]
  },
  {
   "cell_type": "code",
   "execution_count": 22,
   "id": "29b5ab04",
   "metadata": {},
   "outputs": [
    {
     "name": "stdout",
     "output_type": "stream",
     "text": [
      "{'name': ['Hitesh', 'Sonal', 'Sannidhya', 'Pranay'], 'Age': [31, 34, 5, 16], 'Education': ['B.E', 'MBA', 'KG', 'High School']}\n",
      "<class 'dict'>\n",
      "\n",
      "Converting the dictionary into Seires\n",
      "\n",
      "name         [Hitesh, Sonal, Sannidhya, Pranay]\n",
      "Age                             [31, 34, 5, 16]\n",
      "Education           [B.E, MBA, KG, High School]\n",
      "dtype: object\n",
      "<class 'pandas.core.series.Series'>\n"
     ]
    }
   ],
   "source": [
    "data={'name':['Hitesh','Sonal','Sannidhya','Pranay'],\n",
    "      'Age':[31,34,5,16],\n",
    "      'Education':['B.E','MBA','KG','High School']}\n",
    "print(data)\n",
    "print(type(data))\n",
    "print()\n",
    "print(\"Converting the dictionary into Seires\")\n",
    "print()\n",
    "result=pd.Series(data)\n",
    "print(result)\n",
    "print(type(result))\n"
   ]
  },
  {
   "cell_type": "markdown",
   "id": "d4cb6c9b",
   "metadata": {},
   "source": [
    "### Write a Pandas program to convert a NumPy array to a Pandas series."
   ]
  },
  {
   "cell_type": "code",
   "execution_count": 24,
   "id": "0b685466",
   "metadata": {},
   "outputs": [
    {
     "name": "stdout",
     "output_type": "stream",
     "text": [
      "[10 20 30 40 50]\n",
      "<class 'numpy.ndarray'>\n",
      "\n",
      "0    10\n",
      "1    20\n",
      "2    30\n",
      "3    40\n",
      "4    50\n",
      "dtype: int32\n",
      "<class 'pandas.core.series.Series'>\n"
     ]
    }
   ],
   "source": [
    "import numpy as np\n",
    "number=np.array([10,20,30,40,50])\n",
    "print(number)\n",
    "print(type(number))\n",
    "print()\n",
    "\n",
    "result=pd.Series(number)\n",
    "print(result)\n",
    "print(type(result))"
   ]
  },
  {
   "cell_type": "markdown",
   "id": "eacde2e4",
   "metadata": {},
   "source": [
    "### Write a Pandas program to change the data type of given a column or a Series."
   ]
  },
  {
   "cell_type": "code",
   "execution_count": 31,
   "id": "9e12d740",
   "metadata": {},
   "outputs": [
    {
     "name": "stdout",
     "output_type": "stream",
     "text": [
      "0       10\n",
      "1      230\n",
      "2       40\n",
      "3      550\n",
      "4    12.50\n",
      "5       50\n",
      "6       20\n",
      "dtype: object\n",
      "<class 'pandas.core.series.Series'>\n",
      "\n",
      "Changing the type of Series\n",
      "\n",
      "0     10.0\n",
      "1    230.0\n",
      "2     40.0\n",
      "3    550.0\n",
      "4     12.5\n",
      "5     50.0\n",
      "6     20.0\n",
      "dtype: float64\n",
      "<class 'pandas.core.series.Series'>\n",
      "\n"
     ]
    }
   ],
   "source": [
    "name=pd.Series(['10','230','40','550','12.50','50','20'])\n",
    "print(name)\n",
    "print(type(name))\n",
    "print()\n",
    "print(\"Changing the type of Series\")\n",
    "print()\n",
    "result=pd.to_numeric(name, errors='coerce')\n",
    "print(result)\n",
    "print(type(result))\n",
    "print()"
   ]
  },
  {
   "cell_type": "markdown",
   "id": "1671f243",
   "metadata": {},
   "source": [
    "### Write a Pandas program to convert the first column of a DataFrame as a Series."
   ]
  },
  {
   "cell_type": "code",
   "execution_count": 43,
   "id": "3a03f1e5",
   "metadata": {},
   "outputs": [
    {
     "name": "stdout",
     "output_type": "stream",
     "text": [
      "        name  Age    Education\n",
      "0     Hitesh   31          B.E\n",
      "1      Sonal   34          MBA\n",
      "2  Sannidhya    5           KG\n",
      "3     Pranay   16  High School\n",
      "<class 'pandas.core.frame.DataFrame'>\n",
      "\n",
      "Fetching first column from DataFrame\n",
      "\n",
      "0       Hitesh\n",
      "1        Sonal\n",
      "2    Sannidhya\n",
      "3       Pranay\n",
      "Name: name, dtype: object\n",
      "<class 'pandas.core.series.Series'>\n",
      "\n"
     ]
    }
   ],
   "source": [
    "data={'name':['Hitesh','Sonal','Sannidhya','Pranay'],\n",
    "      'Age':[31,34,5,16],\n",
    "      'Education':['B.E','MBA','KG','High School']}\n",
    "result=pd.DataFrame(data=data)\n",
    "print(result)\n",
    "print(type(result))\n",
    "print()\n",
    "print(\"Fetching first column from DataFrame\")\n",
    "print()\n",
    "first_column=result.iloc[:,0]\n",
    "print(first_column)\n",
    "print(type(first_column))\n",
    "print()\n"
   ]
  },
  {
   "cell_type": "markdown",
   "id": "5d47ed78",
   "metadata": {},
   "source": [
    "### Write a Pandas program to convert a given Series to an array."
   ]
  },
  {
   "cell_type": "code",
   "execution_count": 46,
   "id": "f3e2f0ef",
   "metadata": {},
   "outputs": [
    {
     "name": "stdout",
     "output_type": "stream",
     "text": [
      "0    100\n",
      "1    200\n",
      "2    300\n",
      "3    400\n",
      "4    500\n",
      "dtype: int64\n",
      "<class 'pandas.core.series.Series'>\n",
      "\n",
      "Converting the python Series into array\n",
      "\n",
      "[100 200 300 400 500]\n",
      "<class 'numpy.ndarray'>\n"
     ]
    }
   ],
   "source": [
    "import numpy as np\n",
    "number=pd.Series([100,200,300,400,500])\n",
    "print(number)\n",
    "print(type(number))\n",
    "print()\n",
    "print(\"Converting the python Series into array\")\n",
    "print()\n",
    "result=np.array(number.tolist())\n",
    "print(result)\n",
    "print(type(result))"
   ]
  },
  {
   "cell_type": "markdown",
   "id": "b588158b",
   "metadata": {},
   "source": [
    "### Write a Pandas program to convert Series of lists to one Series."
   ]
  },
  {
   "cell_type": "code",
   "execution_count": 51,
   "id": "024585d5",
   "metadata": {},
   "outputs": [
    {
     "name": "stdout",
     "output_type": "stream",
     "text": [
      "0    [Red, Green, White]\n",
      "1           [Red, Black]\n",
      "2               [Yellow]\n",
      "dtype: object\n",
      "\n",
      "Merge all series into one single series\n",
      "\n",
      "0  0       Red\n",
      "   1     Green\n",
      "   2     White\n",
      "1  0       Red\n",
      "   1     Black\n",
      "2  0    Yellow\n",
      "dtype: object\n"
     ]
    }
   ],
   "source": [
    "s = pd.Series([\n",
    "    ['Red', 'Green', 'White'],\n",
    "    ['Red', 'Black'],\n",
    "    ['Yellow']])\n",
    "\n",
    "print(s)\n",
    "print()\n",
    "print(\"Merge all series into one single series\")\n",
    "print()\n",
    "result=s.apply(pd.Series).stack()\n",
    "print(result)"
   ]
  },
  {
   "cell_type": "code",
   "execution_count": 60,
   "id": "f97b9a9e",
   "metadata": {},
   "outputs": [
    {
     "name": "stdout",
     "output_type": "stream",
     "text": [
      "0    [Hitesh, Ganesh, Suresh]\n",
      "1      [Sonal, Krunal, Sannu]\n",
      "2    [Pratik, Raju, Soyendra]\n",
      "dtype: object\n",
      "<class 'pandas.core.series.Series'>\n",
      "Merge all series into one single series\n",
      "\n",
      "\n",
      "0  2      Suresh\n",
      "2  2    Soyendra\n",
      "1  0       Sonal\n",
      "   2       Sannu\n",
      "2  1        Raju\n",
      "   0      Pratik\n",
      "1  1      Krunal\n",
      "0  0      Hitesh\n",
      "   1      Ganesh\n",
      "dtype: object\n",
      "\n",
      "Adding some fdata into existing Series\n",
      "(0, 0)      Hitesh\n",
      "(0, 1)      Ganesh\n",
      "(0, 2)      Suresh\n",
      "(1, 0)       Sonal\n",
      "(1, 1)      Krunal\n",
      "(1, 2)       Sannu\n",
      "(2, 0)      Pratik\n",
      "(2, 1)        Raju\n",
      "(2, 2)    Soyendra\n",
      "0          Prajwal\n",
      "1          Vandana\n",
      "dtype: object\n"
     ]
    }
   ],
   "source": [
    "name=pd.Series([['Hitesh','Ganesh','Suresh'],\n",
    "               ['Sonal','Krunal','Sannu'],\n",
    "               ['Pratik','Raju','Soyendra']])\n",
    "print(name)\n",
    "print(type(name))\n",
    "print(\"Merge all series into one single series\")\n",
    "print()\n",
    "result=name.apply(pd.Series).stack()\n",
    "print()\n",
    "print(result.sort_values(ascending=False))\n",
    "print()\n",
    "print(\"Adding some fdata into existing Series\")\n",
    "final_result=result.append(pd.Series(['Prajwal','Vandana']))\n",
    "print(final_result)"
   ]
  },
  {
   "cell_type": "markdown",
   "id": "6c8214e6",
   "metadata": {},
   "source": [
    "### Write a Pandas program to create the mean and standard deviation of the data of a given Series."
   ]
  },
  {
   "cell_type": "code",
   "execution_count": 64,
   "id": "7e0f198d",
   "metadata": {},
   "outputs": [
    {
     "name": "stdout",
     "output_type": "stream",
     "text": [
      "<class 'list'>\n",
      "\n",
      "Convert it into Series\n",
      "\n",
      "0    10\n",
      "1    25\n",
      "2    30\n",
      "3    40\n",
      "4    50\n",
      "5    75\n",
      "dtype: int64\n",
      "<class 'pandas.core.series.Series'>\n",
      "\n",
      "Finding the mean of given Series\n",
      "\n",
      "38.333333333333336\n",
      "\n",
      "Finding the STD of given Series\n",
      "\n",
      "22.50925735484551\n"
     ]
    }
   ],
   "source": [
    "number=[10,25,30,40,50,75]\n",
    "print(type(number))\n",
    "print()\n",
    "print(\"Convert it into Series\")\n",
    "print()\n",
    "result=pd.Series(number)\n",
    "print(result)\n",
    "print(type(result))\n",
    "print()\n",
    "print(\"Finding the mean of given Series\")\n",
    "print()\n",
    "mean=result.mean()\n",
    "print(mean)\n",
    "print()\n",
    "print(\"Finding the STD of given Series\")\n",
    "print()\n",
    "std_dev=result.std()\n",
    "print(std_dev)\n",
    "\n"
   ]
  },
  {
   "cell_type": "markdown",
   "id": "2cce4796",
   "metadata": {},
   "source": [
    "### Write a Pandas program to compute the minimum, 25th percentile, median, 75th, and maximum of a given series."
   ]
  },
  {
   "cell_type": "code",
   "execution_count": 70,
   "id": "aa3f185f",
   "metadata": {},
   "outputs": [
    {
     "name": "stdout",
     "output_type": "stream",
     "text": [
      "[16 23 30 45 37 35 19 29 49 28 41 29 37 18 38 35 40 14 48 20]\n",
      "\n",
      "\n",
      "Minimum, 25th percentile, median, 75th, and maximum of a given series:\n",
      "\n",
      "[14.   22.25 32.5  38.5  49.  ]\n",
      "\n",
      "Counter({37: 2, 35: 2, 29: 2, 16: 1, 23: 1, 30: 1, 45: 1, 19: 1, 49: 1, 28: 1, 41: 1, 18: 1, 38: 1, 40: 1, 14: 1, 48: 1, 20: 1})\n"
     ]
    }
   ],
   "source": [
    "import numpy as np\n",
    "from collections import Counter\n",
    "data=np.random.randint(10,50,20)\n",
    "print(data)\n",
    "print()\n",
    "print(\"\\nMinimum, 25th percentile, median, 75th, and maximum of a given series:\")\n",
    "print()\n",
    "result=np.percentile(data,q=[0,25,50,75,100])\n",
    "print(result)\n",
    "print()\n",
    "count_num=Counter(data)\n",
    "print(count_num)"
   ]
  },
  {
   "cell_type": "markdown",
   "id": "5fc370ee",
   "metadata": {},
   "source": [
    "### Write a Pandas program to find the positions of numbers that are multiples of 5 of a given series."
   ]
  },
  {
   "cell_type": "code",
   "execution_count": 72,
   "id": "f329298a",
   "metadata": {},
   "outputs": [
    {
     "name": "stdout",
     "output_type": "stream",
     "text": [
      "[45 30 24 43 45 36 39 23 37 18 42 12 32 42 36 33 47 27 14 30]\n",
      "\n",
      "\n",
      "(array([ 0,  1,  4, 19], dtype=int64),)\n"
     ]
    }
   ],
   "source": [
    "data=np.random.randint(10,50,20)\n",
    "print(data)\n",
    "print()\n",
    "print()\n",
    "result=np.where(data%5==0)\n",
    "print(result)"
   ]
  },
  {
   "cell_type": "code",
   "execution_count": null,
   "id": "b9be1dd2",
   "metadata": {},
   "outputs": [],
   "source": []
  },
  {
   "cell_type": "code",
   "execution_count": null,
   "id": "f5eac670",
   "metadata": {},
   "outputs": [],
   "source": []
  },
  {
   "cell_type": "code",
   "execution_count": null,
   "id": "6b32c0e2",
   "metadata": {},
   "outputs": [],
   "source": []
  },
  {
   "cell_type": "code",
   "execution_count": null,
   "id": "bdbc5854",
   "metadata": {},
   "outputs": [],
   "source": []
  },
  {
   "cell_type": "code",
   "execution_count": null,
   "id": "9617d0aa",
   "metadata": {},
   "outputs": [],
   "source": []
  }
 ],
 "metadata": {
  "kernelspec": {
   "display_name": "Python 3",
   "language": "python",
   "name": "python3"
  },
  "language_info": {
   "codemirror_mode": {
    "name": "ipython",
    "version": 3
   },
   "file_extension": ".py",
   "mimetype": "text/x-python",
   "name": "python",
   "nbconvert_exporter": "python",
   "pygments_lexer": "ipython3",
   "version": "3.7.4"
  }
 },
 "nbformat": 4,
 "nbformat_minor": 5
}
